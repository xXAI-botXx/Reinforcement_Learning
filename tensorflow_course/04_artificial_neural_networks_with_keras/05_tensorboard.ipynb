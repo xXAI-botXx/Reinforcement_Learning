{
 "cells": [
  {
   "cell_type": "markdown",
   "metadata": {},
   "source": [
    "<a href=\"https://www.pieriandata.com\"><img src=\"../Pierian_Data_Logo.PNG\"></a>\n",
    "<strong><center>Copyright by Pierian Data Inc.</center></strong> \n",
    "<strong><center>Created by Jose Marcial Portilla.</center></strong>"
   ]
  },
  {
   "cell_type": "markdown",
   "metadata": {},
   "source": [
    "# Tensorboard\n",
    "\n",
    "---\n",
    "---\n",
    "\n",
    "**NOTE: You must watch the corresponding video to understand this lecture. This notebook can't serve as a full guide. Please watch the video BEFORE posting questions to the QA forum.**\n",
    "\n",
    "---\n",
    "---\n",
    "\n",
    "Let's explore the built in data visualization capabilities that come with Tensorboard.\n",
    "\n",
    "Full official tutorial available here: https://www.tensorflow.org/tensorboard/get_started\n",
    "\n",
    "## Data"
   ]
  },
  {
   "cell_type": "code",
   "execution_count": 1,
   "metadata": {},
   "outputs": [],
   "source": [
    "import pandas as pd\n",
    "import numpy as np"
   ]
  },
  {
   "cell_type": "code",
   "execution_count": 3,
   "metadata": {},
   "outputs": [],
   "source": [
    "df = pd.read_csv('../COURSE_NOTEBOOKS/DATA/cancer_classification.csv')"
   ]
  },
  {
   "cell_type": "markdown",
   "metadata": {},
   "source": [
    "### Train Test Split"
   ]
  },
  {
   "cell_type": "code",
   "execution_count": 4,
   "metadata": {},
   "outputs": [],
   "source": [
    "X = df.drop('benign_0__mal_1',axis=1).values\n",
    "y = df['benign_0__mal_1'].values"
   ]
  },
  {
   "cell_type": "code",
   "execution_count": 5,
   "metadata": {},
   "outputs": [],
   "source": [
    "from sklearn.model_selection import train_test_split"
   ]
  },
  {
   "cell_type": "code",
   "execution_count": 6,
   "metadata": {},
   "outputs": [],
   "source": [
    "X_train, X_test, y_train, y_test = train_test_split(X,y,test_size=0.25,random_state=101)"
   ]
  },
  {
   "cell_type": "markdown",
   "metadata": {},
   "source": [
    "\n",
    "### Scaling Data"
   ]
  },
  {
   "cell_type": "code",
   "execution_count": 7,
   "metadata": {},
   "outputs": [],
   "source": [
    "from sklearn.preprocessing import MinMaxScaler"
   ]
  },
  {
   "cell_type": "code",
   "execution_count": 8,
   "metadata": {},
   "outputs": [],
   "source": [
    "scaler = MinMaxScaler()"
   ]
  },
  {
   "cell_type": "code",
   "execution_count": 9,
   "metadata": {},
   "outputs": [
    {
     "data": {
      "text/plain": [
       "MinMaxScaler()"
      ]
     },
     "execution_count": 9,
     "metadata": {},
     "output_type": "execute_result"
    }
   ],
   "source": [
    "scaler.fit(X_train)"
   ]
  },
  {
   "cell_type": "code",
   "execution_count": 10,
   "metadata": {},
   "outputs": [],
   "source": [
    "X_train = scaler.transform(X_train)\n",
    "X_test = scaler.transform(X_test)"
   ]
  },
  {
   "cell_type": "markdown",
   "metadata": {},
   "source": [
    "## Creating the Model"
   ]
  },
  {
   "cell_type": "code",
   "execution_count": 11,
   "metadata": {},
   "outputs": [],
   "source": [
    "import tensorflow as tf\n",
    "from tensorflow.keras.models import Sequential\n",
    "from tensorflow.keras.layers import Dense, Activation,Dropout"
   ]
  },
  {
   "cell_type": "code",
   "execution_count": 12,
   "metadata": {},
   "outputs": [],
   "source": [
    "from tensorflow.keras.callbacks import EarlyStopping,TensorBoard"
   ]
  },
  {
   "cell_type": "code",
   "execution_count": 13,
   "metadata": {},
   "outputs": [],
   "source": [
    "early_stop = EarlyStopping(monitor='val_loss', mode='min', verbose=1, patience=25)"
   ]
  },
  {
   "cell_type": "code",
   "execution_count": 14,
   "metadata": {},
   "outputs": [
    {
     "data": {
      "text/plain": [
       "'d:\\\\Informatik\\\\Project-Lake\\\\Reinforcement Learning\\\\04_artificial_neural_networks_with_keras'"
      ]
     },
     "execution_count": 14,
     "metadata": {},
     "output_type": "execute_result"
    }
   ],
   "source": [
    "pwd"
   ]
  },
  {
   "cell_type": "markdown",
   "metadata": {},
   "source": [
    "## Creating the Tensorboard Callback\n",
    "\n",
    "TensorBoard is a visualization tool provided with TensorFlow.\n",
    "\n",
    "This callback logs events for TensorBoard, including:\n",
    "* Metrics summary plots\n",
    "* Training graph visualization\n",
    "* Activation histograms\n",
    "* Sampled profiling\n",
    "\n",
    "If you have installed TensorFlow with pip, you should be able\n",
    "to launch TensorBoard from the command line:\n",
    "\n",
    "```sh\n",
    "tensorboard --logdir=path_to_your_logs\n",
    "```\n",
    "\n",
    "You can find more information about TensorBoard\n",
    "[here](https://www.tensorflow.org/tensorboard/).\n",
    "\n",
    "    Arguments:\n",
    "        log_dir: the path of the directory where to save the log files to be\n",
    "          parsed by TensorBoard.\n",
    "        histogram_freq: frequency (in epochs) at which to compute activation and\n",
    "          weight histograms for the layers of the model. If set to 0, histograms\n",
    "          won't be computed. Validation data (or split) must be specified for\n",
    "          histogram visualizations.\n",
    "        write_graph: whether to visualize the graph in TensorBoard. The log file\n",
    "          can become quite large when write_graph is set to True.\n",
    "        write_images: whether to write model weights to visualize as image in\n",
    "          TensorBoard.\n",
    "        update_freq: `'batch'` or `'epoch'` or integer. When using `'batch'`,\n",
    "          writes the losses and metrics to TensorBoard after each batch. The same\n",
    "          applies for `'epoch'`. If using an integer, let's say `1000`, the\n",
    "          callback will write the metrics and losses to TensorBoard every 1000\n",
    "          samples. Note that writing too frequently to TensorBoard can slow down\n",
    "          your training.\n",
    "        profile_batch: Profile the batch to sample compute characteristics. By\n",
    "          default, it will profile the second batch. Set profile_batch=0 to\n",
    "          disable profiling. Must run in TensorFlow eager mode.\n",
    "        embeddings_freq: frequency (in epochs) at which embedding layers will\n",
    "          be visualized. If set to 0, embeddings won't be visualized.\n",
    "       "
   ]
  },
  {
   "cell_type": "code",
   "execution_count": 15,
   "metadata": {},
   "outputs": [],
   "source": [
    "from datetime import datetime"
   ]
  },
  {
   "cell_type": "code",
   "execution_count": 19,
   "metadata": {},
   "outputs": [
    {
     "data": {
      "text/plain": [
       "'2022-07-28--1558'"
      ]
     },
     "execution_count": 19,
     "metadata": {},
     "output_type": "execute_result"
    }
   ],
   "source": [
    "datetime.now().strftime(\"%Y-%m-%d--%H%M\")"
   ]
  },
  {
   "cell_type": "code",
   "execution_count": 20,
   "metadata": {},
   "outputs": [
    {
     "data": {
      "text/plain": [
       "'2022-7-28--1558'"
      ]
     },
     "execution_count": 20,
     "metadata": {},
     "output_type": "execute_result"
    }
   ],
   "source": [
    "now = datetime.now()\n",
    "t = f'{now.year}-{now.month}-{now.day}--{now.hour}{now.minute}'\n",
    "t"
   ]
  },
  {
   "cell_type": "code",
   "execution_count": 21,
   "metadata": {},
   "outputs": [],
   "source": [
    "# WINDOWS: Use \"logs\\\\fit\"\n",
    "# MACOS/LINUX: Use \"logs\\fit\"\n",
    "\n",
    "log_directory = 'logs\\\\fit'\n",
    "\n",
    "# OPTIONAL: ADD A TIMESTAMP FOR UNIQUE FOLDER\n",
    "# timestamp = datetime.now().strftime(\"%Y-%m-%d--%H%M\")\n",
    "# log_directory = log_directory + '\\\\' + timestamp\n",
    "\n",
    "\n",
    "board = TensorBoard(log_dir=log_directory,histogram_freq=1,\n",
    "    write_graph=True,\n",
    "    write_images=True,\n",
    "    update_freq='epoch',\n",
    "    profile_batch=2,\n",
    "    embeddings_freq=1)"
   ]
  },
  {
   "cell_type": "markdown",
   "metadata": {},
   "source": [
    "Now create the model layers:"
   ]
  },
  {
   "cell_type": "code",
   "execution_count": 22,
   "metadata": {},
   "outputs": [],
   "source": [
    "model = Sequential()\n",
    "model.add(Dense(units=30,activation='relu'))\n",
    "model.add(Dropout(0.5))\n",
    "model.add(Dense(units=15,activation='relu'))\n",
    "model.add(Dropout(0.5))\n",
    "model.add(Dense(units=1,activation='sigmoid'))\n",
    "model.compile(loss='binary_crossentropy', optimizer='adam')"
   ]
  },
  {
   "cell_type": "markdown",
   "metadata": {},
   "source": [
    "## Train the Model"
   ]
  },
  {
   "cell_type": "code",
   "execution_count": 23,
   "metadata": {},
   "outputs": [
    {
     "name": "stdout",
     "output_type": "stream",
     "text": [
      "Epoch 1/600\n",
      "14/14 [==============================] - 1s 64ms/step - loss: 0.7048 - val_loss: 0.6884\n",
      "Epoch 2/600\n",
      "14/14 [==============================] - 0s 26ms/step - loss: 0.6846 - val_loss: 0.6770\n",
      "Epoch 3/600\n",
      "14/14 [==============================] - 0s 25ms/step - loss: 0.6788 - val_loss: 0.6598\n",
      "Epoch 4/600\n",
      "14/14 [==============================] - 0s 25ms/step - loss: 0.6667 - val_loss: 0.6406\n",
      "Epoch 5/600\n",
      "14/14 [==============================] - 0s 23ms/step - loss: 0.6577 - val_loss: 0.6216\n",
      "Epoch 6/600\n",
      "14/14 [==============================] - 0s 24ms/step - loss: 0.6299 - val_loss: 0.5989\n",
      "Epoch 7/600\n",
      "14/14 [==============================] - 0s 26ms/step - loss: 0.6192 - val_loss: 0.5716\n",
      "Epoch 8/600\n",
      "14/14 [==============================] - 0s 24ms/step - loss: 0.5872 - val_loss: 0.5456\n",
      "Epoch 9/600\n",
      "14/14 [==============================] - 0s 23ms/step - loss: 0.5718 - val_loss: 0.5171\n",
      "Epoch 10/600\n",
      "14/14 [==============================] - 0s 22ms/step - loss: 0.5395 - val_loss: 0.4826\n",
      "Epoch 11/600\n",
      "14/14 [==============================] - 0s 22ms/step - loss: 0.5159 - val_loss: 0.4482\n",
      "Epoch 12/600\n",
      "14/14 [==============================] - 0s 22ms/step - loss: 0.4908 - val_loss: 0.4144\n",
      "Epoch 13/600\n",
      "14/14 [==============================] - 0s 24ms/step - loss: 0.4724 - val_loss: 0.3907\n",
      "Epoch 14/600\n",
      "14/14 [==============================] - 0s 24ms/step - loss: 0.4694 - val_loss: 0.3651\n",
      "Epoch 15/600\n",
      "14/14 [==============================] - 0s 24ms/step - loss: 0.4476 - val_loss: 0.3436\n",
      "Epoch 16/600\n",
      "14/14 [==============================] - 0s 25ms/step - loss: 0.4260 - val_loss: 0.3258\n",
      "Epoch 17/600\n",
      "14/14 [==============================] - 0s 25ms/step - loss: 0.4087 - val_loss: 0.3042\n",
      "Epoch 18/600\n",
      "14/14 [==============================] - 0s 25ms/step - loss: 0.3937 - val_loss: 0.2866\n",
      "Epoch 19/600\n",
      "14/14 [==============================] - 0s 23ms/step - loss: 0.3765 - val_loss: 0.2808\n",
      "Epoch 20/600\n",
      "14/14 [==============================] - 0s 25ms/step - loss: 0.3698 - val_loss: 0.2669\n",
      "Epoch 21/600\n",
      "14/14 [==============================] - 0s 25ms/step - loss: 0.3544 - val_loss: 0.2527\n",
      "Epoch 22/600\n",
      "14/14 [==============================] - 0s 23ms/step - loss: 0.3401 - val_loss: 0.2397\n",
      "Epoch 23/600\n",
      "14/14 [==============================] - 0s 24ms/step - loss: 0.3559 - val_loss: 0.2322\n",
      "Epoch 24/600\n",
      "14/14 [==============================] - 0s 22ms/step - loss: 0.3265 - val_loss: 0.2191\n",
      "Epoch 25/600\n",
      "14/14 [==============================] - 0s 25ms/step - loss: 0.3408 - val_loss: 0.2107\n",
      "Epoch 26/600\n",
      "14/14 [==============================] - 0s 24ms/step - loss: 0.3046 - val_loss: 0.1989\n",
      "Epoch 27/600\n",
      "14/14 [==============================] - 0s 25ms/step - loss: 0.2991 - val_loss: 0.1942\n",
      "Epoch 28/600\n",
      "14/14 [==============================] - 0s 24ms/step - loss: 0.3042 - val_loss: 0.1883\n",
      "Epoch 29/600\n",
      "14/14 [==============================] - 0s 23ms/step - loss: 0.2757 - val_loss: 0.1818\n",
      "Epoch 30/600\n",
      "14/14 [==============================] - 0s 23ms/step - loss: 0.2869 - val_loss: 0.1745\n",
      "Epoch 31/600\n",
      "14/14 [==============================] - 0s 22ms/step - loss: 0.2629 - val_loss: 0.1701\n",
      "Epoch 32/600\n",
      "14/14 [==============================] - 0s 25ms/step - loss: 0.2549 - val_loss: 0.1654\n",
      "Epoch 33/600\n",
      "14/14 [==============================] - 0s 23ms/step - loss: 0.2531 - val_loss: 0.1603\n",
      "Epoch 34/600\n",
      "14/14 [==============================] - 0s 24ms/step - loss: 0.2443 - val_loss: 0.1579\n",
      "Epoch 35/600\n",
      "14/14 [==============================] - 0s 24ms/step - loss: 0.2477 - val_loss: 0.1509\n",
      "Epoch 36/600\n",
      "14/14 [==============================] - 0s 22ms/step - loss: 0.2086 - val_loss: 0.1535\n",
      "Epoch 37/600\n",
      "14/14 [==============================] - 0s 24ms/step - loss: 0.2564 - val_loss: 0.1461\n",
      "Epoch 38/600\n",
      "14/14 [==============================] - 0s 24ms/step - loss: 0.2473 - val_loss: 0.1458\n",
      "Epoch 39/600\n",
      "14/14 [==============================] - 0s 25ms/step - loss: 0.2126 - val_loss: 0.1397\n",
      "Epoch 40/600\n",
      "14/14 [==============================] - 0s 22ms/step - loss: 0.2489 - val_loss: 0.1381\n",
      "Epoch 41/600\n",
      "14/14 [==============================] - 0s 23ms/step - loss: 0.2372 - val_loss: 0.1360\n",
      "Epoch 42/600\n",
      "14/14 [==============================] - 0s 24ms/step - loss: 0.2288 - val_loss: 0.1368\n",
      "Epoch 43/600\n",
      "14/14 [==============================] - 0s 24ms/step - loss: 0.1913 - val_loss: 0.1286\n",
      "Epoch 44/600\n",
      "14/14 [==============================] - 0s 24ms/step - loss: 0.2114 - val_loss: 0.1289\n",
      "Epoch 45/600\n",
      "14/14 [==============================] - 0s 22ms/step - loss: 0.2197 - val_loss: 0.1301\n",
      "Epoch 46/600\n",
      "14/14 [==============================] - 0s 24ms/step - loss: 0.1950 - val_loss: 0.1250\n",
      "Epoch 47/600\n",
      "14/14 [==============================] - 0s 22ms/step - loss: 0.1712 - val_loss: 0.1241\n",
      "Epoch 48/600\n",
      "14/14 [==============================] - 0s 24ms/step - loss: 0.2293 - val_loss: 0.1236\n",
      "Epoch 49/600\n",
      "14/14 [==============================] - 0s 25ms/step - loss: 0.1902 - val_loss: 0.1214\n",
      "Epoch 50/600\n",
      "14/14 [==============================] - 0s 22ms/step - loss: 0.1983 - val_loss: 0.1190\n",
      "Epoch 51/600\n",
      "14/14 [==============================] - 0s 24ms/step - loss: 0.1941 - val_loss: 0.1244\n",
      "Epoch 52/600\n",
      "14/14 [==============================] - 0s 22ms/step - loss: 0.2048 - val_loss: 0.1301\n",
      "Epoch 53/600\n",
      "14/14 [==============================] - 0s 27ms/step - loss: 0.1902 - val_loss: 0.1151\n",
      "Epoch 54/600\n",
      "14/14 [==============================] - 0s 25ms/step - loss: 0.1988 - val_loss: 0.1099\n",
      "Epoch 55/600\n",
      "14/14 [==============================] - 0s 25ms/step - loss: 0.1916 - val_loss: 0.1090\n",
      "Epoch 56/600\n",
      "14/14 [==============================] - 0s 25ms/step - loss: 0.1781 - val_loss: 0.1135\n",
      "Epoch 57/600\n",
      "14/14 [==============================] - 0s 23ms/step - loss: 0.1476 - val_loss: 0.1129\n",
      "Epoch 58/600\n",
      "14/14 [==============================] - 0s 22ms/step - loss: 0.1491 - val_loss: 0.1056\n",
      "Epoch 59/600\n",
      "14/14 [==============================] - 0s 22ms/step - loss: 0.1590 - val_loss: 0.1116\n",
      "Epoch 60/600\n",
      "14/14 [==============================] - 0s 22ms/step - loss: 0.1554 - val_loss: 0.1037\n",
      "Epoch 61/600\n",
      "14/14 [==============================] - 0s 22ms/step - loss: 0.1384 - val_loss: 0.1044\n",
      "Epoch 62/600\n",
      "14/14 [==============================] - 0s 23ms/step - loss: 0.1576 - val_loss: 0.1034\n",
      "Epoch 63/600\n",
      "14/14 [==============================] - 0s 23ms/step - loss: 0.1423 - val_loss: 0.1149\n",
      "Epoch 64/600\n",
      "14/14 [==============================] - 0s 22ms/step - loss: 0.1309 - val_loss: 0.1102\n",
      "Epoch 65/600\n",
      "14/14 [==============================] - 0s 27ms/step - loss: 0.1473 - val_loss: 0.0993\n",
      "Epoch 66/600\n",
      "14/14 [==============================] - 0s 22ms/step - loss: 0.1465 - val_loss: 0.0994\n",
      "Epoch 67/600\n",
      "14/14 [==============================] - 0s 24ms/step - loss: 0.1492 - val_loss: 0.1103\n",
      "Epoch 68/600\n",
      "14/14 [==============================] - 0s 23ms/step - loss: 0.1382 - val_loss: 0.0991\n",
      "Epoch 69/600\n",
      "14/14 [==============================] - 0s 25ms/step - loss: 0.1503 - val_loss: 0.0995\n",
      "Epoch 70/600\n",
      "14/14 [==============================] - 0s 22ms/step - loss: 0.1360 - val_loss: 0.1010\n",
      "Epoch 71/600\n",
      "14/14 [==============================] - 0s 22ms/step - loss: 0.1512 - val_loss: 0.1099\n",
      "Epoch 72/600\n",
      "14/14 [==============================] - 0s 24ms/step - loss: 0.1482 - val_loss: 0.1012\n",
      "Epoch 73/600\n",
      "14/14 [==============================] - 0s 23ms/step - loss: 0.1593 - val_loss: 0.1067\n",
      "Epoch 74/600\n",
      "14/14 [==============================] - 0s 22ms/step - loss: 0.1355 - val_loss: 0.0948\n",
      "Epoch 75/600\n",
      "14/14 [==============================] - 0s 27ms/step - loss: 0.1337 - val_loss: 0.1080\n",
      "Epoch 76/600\n",
      "14/14 [==============================] - 0s 22ms/step - loss: 0.1192 - val_loss: 0.0965\n",
      "Epoch 77/600\n",
      "14/14 [==============================] - 0s 23ms/step - loss: 0.1404 - val_loss: 0.1005\n",
      "Epoch 78/600\n",
      "14/14 [==============================] - 0s 22ms/step - loss: 0.1342 - val_loss: 0.1039\n",
      "Epoch 79/600\n",
      "14/14 [==============================] - 0s 23ms/step - loss: 0.1113 - val_loss: 0.0965\n",
      "Epoch 80/600\n",
      "14/14 [==============================] - 0s 22ms/step - loss: 0.1337 - val_loss: 0.0990\n",
      "Epoch 81/600\n",
      "14/14 [==============================] - 0s 23ms/step - loss: 0.1205 - val_loss: 0.1229\n",
      "Epoch 82/600\n",
      "14/14 [==============================] - 0s 23ms/step - loss: 0.1068 - val_loss: 0.1095\n",
      "Epoch 83/600\n",
      "14/14 [==============================] - 0s 24ms/step - loss: 0.1133 - val_loss: 0.0966\n",
      "Epoch 84/600\n",
      "14/14 [==============================] - 0s 24ms/step - loss: 0.1378 - val_loss: 0.1111\n",
      "Epoch 85/600\n",
      "14/14 [==============================] - 0s 24ms/step - loss: 0.1178 - val_loss: 0.0970\n",
      "Epoch 86/600\n",
      "14/14 [==============================] - 0s 24ms/step - loss: 0.1261 - val_loss: 0.0960\n",
      "Epoch 87/600\n",
      "14/14 [==============================] - 0s 23ms/step - loss: 0.1169 - val_loss: 0.1016\n",
      "Epoch 88/600\n",
      "14/14 [==============================] - 0s 25ms/step - loss: 0.1020 - val_loss: 0.1015\n",
      "Epoch 89/600\n",
      "14/14 [==============================] - 0s 24ms/step - loss: 0.1293 - val_loss: 0.0965\n",
      "Epoch 90/600\n",
      "14/14 [==============================] - 0s 25ms/step - loss: 0.0917 - val_loss: 0.0967\n",
      "Epoch 91/600\n",
      "14/14 [==============================] - 0s 24ms/step - loss: 0.1246 - val_loss: 0.1025\n",
      "Epoch 92/600\n",
      "14/14 [==============================] - 0s 25ms/step - loss: 0.1099 - val_loss: 0.0934\n",
      "Epoch 93/600\n",
      "14/14 [==============================] - 0s 24ms/step - loss: 0.1079 - val_loss: 0.0921\n",
      "Epoch 94/600\n",
      "14/14 [==============================] - 0s 24ms/step - loss: 0.1201 - val_loss: 0.0936\n",
      "Epoch 95/600\n",
      "14/14 [==============================] - 0s 23ms/step - loss: 0.0996 - val_loss: 0.0997\n",
      "Epoch 96/600\n",
      "14/14 [==============================] - 0s 24ms/step - loss: 0.1234 - val_loss: 0.0917\n",
      "Epoch 97/600\n",
      "14/14 [==============================] - 0s 24ms/step - loss: 0.1103 - val_loss: 0.1002\n",
      "Epoch 98/600\n",
      "14/14 [==============================] - 0s 25ms/step - loss: 0.0986 - val_loss: 0.0908\n",
      "Epoch 99/600\n",
      "14/14 [==============================] - 0s 25ms/step - loss: 0.1259 - val_loss: 0.0903\n",
      "Epoch 100/600\n",
      "14/14 [==============================] - 0s 24ms/step - loss: 0.1017 - val_loss: 0.1013\n",
      "Epoch 101/600\n",
      "14/14 [==============================] - 0s 25ms/step - loss: 0.1007 - val_loss: 0.0897\n",
      "Epoch 102/600\n",
      "14/14 [==============================] - 0s 24ms/step - loss: 0.1371 - val_loss: 0.0929\n",
      "Epoch 103/600\n",
      "14/14 [==============================] - 0s 25ms/step - loss: 0.1016 - val_loss: 0.0900\n",
      "Epoch 104/600\n",
      "14/14 [==============================] - 0s 26ms/step - loss: 0.0962 - val_loss: 0.0914\n",
      "Epoch 105/600\n",
      "14/14 [==============================] - 0s 24ms/step - loss: 0.0935 - val_loss: 0.1055\n",
      "Epoch 106/600\n",
      "14/14 [==============================] - 0s 25ms/step - loss: 0.1225 - val_loss: 0.0899\n",
      "Epoch 107/600\n",
      "14/14 [==============================] - 0s 25ms/step - loss: 0.0972 - val_loss: 0.0952\n",
      "Epoch 108/600\n",
      "14/14 [==============================] - 0s 24ms/step - loss: 0.1137 - val_loss: 0.0879\n",
      "Epoch 109/600\n",
      "14/14 [==============================] - 0s 25ms/step - loss: 0.1024 - val_loss: 0.0981\n",
      "Epoch 110/600\n",
      "14/14 [==============================] - 0s 25ms/step - loss: 0.1031 - val_loss: 0.0878\n",
      "Epoch 111/600\n",
      "14/14 [==============================] - 0s 23ms/step - loss: 0.1061 - val_loss: 0.0854\n",
      "Epoch 112/600\n",
      "14/14 [==============================] - 0s 23ms/step - loss: 0.1080 - val_loss: 0.0939\n",
      "Epoch 113/600\n",
      "14/14 [==============================] - 0s 25ms/step - loss: 0.1063 - val_loss: 0.1084\n",
      "Epoch 114/600\n",
      "14/14 [==============================] - 0s 23ms/step - loss: 0.1104 - val_loss: 0.0890\n",
      "Epoch 115/600\n",
      "14/14 [==============================] - 0s 25ms/step - loss: 0.1067 - val_loss: 0.0877\n",
      "Epoch 116/600\n",
      "14/14 [==============================] - 0s 23ms/step - loss: 0.0826 - val_loss: 0.0877\n",
      "Epoch 117/600\n",
      "14/14 [==============================] - 0s 28ms/step - loss: 0.1068 - val_loss: 0.0895\n",
      "Epoch 118/600\n",
      "14/14 [==============================] - 0s 28ms/step - loss: 0.1054 - val_loss: 0.0925\n",
      "Epoch 119/600\n",
      "14/14 [==============================] - 0s 25ms/step - loss: 0.1124 - val_loss: 0.0932\n",
      "Epoch 120/600\n",
      "14/14 [==============================] - 0s 24ms/step - loss: 0.0899 - val_loss: 0.0922\n",
      "Epoch 121/600\n",
      "14/14 [==============================] - 0s 23ms/step - loss: 0.1014 - val_loss: 0.0952\n",
      "Epoch 122/600\n",
      "14/14 [==============================] - 0s 25ms/step - loss: 0.1074 - val_loss: 0.0917\n",
      "Epoch 123/600\n",
      "14/14 [==============================] - 0s 25ms/step - loss: 0.0985 - val_loss: 0.0961\n",
      "Epoch 124/600\n",
      "14/14 [==============================] - 0s 25ms/step - loss: 0.0910 - val_loss: 0.1090\n",
      "Epoch 125/600\n",
      "14/14 [==============================] - 0s 23ms/step - loss: 0.0918 - val_loss: 0.0965\n",
      "Epoch 126/600\n",
      "14/14 [==============================] - 0s 25ms/step - loss: 0.1064 - val_loss: 0.0887\n",
      "Epoch 127/600\n",
      "14/14 [==============================] - 0s 23ms/step - loss: 0.1201 - val_loss: 0.0867\n",
      "Epoch 128/600\n",
      "14/14 [==============================] - 0s 24ms/step - loss: 0.1078 - val_loss: 0.0923\n",
      "Epoch 129/600\n",
      "14/14 [==============================] - 0s 24ms/step - loss: 0.0692 - val_loss: 0.1089\n",
      "Epoch 130/600\n",
      "14/14 [==============================] - 0s 24ms/step - loss: 0.0884 - val_loss: 0.0932\n",
      "Epoch 131/600\n",
      "14/14 [==============================] - 0s 25ms/step - loss: 0.0899 - val_loss: 0.0917\n",
      "Epoch 132/600\n",
      "14/14 [==============================] - 0s 23ms/step - loss: 0.0835 - val_loss: 0.0890\n",
      "Epoch 133/600\n",
      "14/14 [==============================] - 0s 23ms/step - loss: 0.0943 - val_loss: 0.0974\n",
      "Epoch 134/600\n",
      "14/14 [==============================] - 0s 23ms/step - loss: 0.1015 - val_loss: 0.1182\n",
      "Epoch 135/600\n",
      "14/14 [==============================] - 0s 24ms/step - loss: 0.0934 - val_loss: 0.0872\n",
      "Epoch 136/600\n",
      "14/14 [==============================] - 0s 25ms/step - loss: 0.1026 - val_loss: 0.0868\n",
      "Epoch 136: early stopping\n"
     ]
    },
    {
     "data": {
      "text/plain": [
       "<keras.callbacks.History at 0x27ece1124f0>"
      ]
     },
     "execution_count": 23,
     "metadata": {},
     "output_type": "execute_result"
    }
   ],
   "source": [
    "model.fit(x=X_train, \n",
    "          y=y_train, \n",
    "          epochs=600,\n",
    "          validation_data=(X_test, y_test), verbose=1,\n",
    "          callbacks=[early_stop, board]\n",
    "          )"
   ]
  },
  {
   "cell_type": "markdown",
   "metadata": {},
   "source": [
    "# Running Tensorboard\n"
   ]
  },
  {
   "cell_type": "markdown",
   "metadata": {},
   "source": [
    "## Running through the Command Line\n",
    "\n",
    "**Watch video to see how to run Tensorboard through a command line call.**"
   ]
  },
  {
   "cell_type": "markdown",
   "metadata": {},
   "source": [
    "Tensorboard will run locally in your browser at [http://localhost:6006/](http://localhost:6006/)\n"
   ]
  },
  {
   "cell_type": "code",
   "execution_count": 24,
   "metadata": {},
   "outputs": [
    {
     "name": "stdout",
     "output_type": "stream",
     "text": [
      "logs\\fit\n"
     ]
    }
   ],
   "source": [
    "print(log_directory)"
   ]
  },
  {
   "cell_type": "code",
   "execution_count": 25,
   "metadata": {},
   "outputs": [
    {
     "data": {
      "text/plain": [
       "'d:\\\\Informatik\\\\Project-Lake\\\\Reinforcement Learning\\\\04_artificial_neural_networks_with_keras'"
      ]
     },
     "execution_count": 25,
     "metadata": {},
     "output_type": "execute_result"
    }
   ],
   "source": [
    "pwd"
   ]
  },
  {
   "cell_type": "markdown",
   "metadata": {},
   "source": [
    "### Use cd at your command line to change directory to the file path reported back by pwd or your current .py file location.\n",
    "### Then run this code at your command line or terminal"
   ]
  },
  {
   "cell_type": "markdown",
   "metadata": {},
   "source": [
    "1. open anaconda prompt\n",
    "2. activate your enviroment (conda activate ...)\n",
    "3. change path to your local path <br>\n",
    "    -> copy the output of pwd and paste it after cd and hit enter\n",
    "4. run: <br>```python\n",
    "        tensorboard --logdir logs\\fit \n",
    "        ```\n",
    "5. Open [http://localhost:6006/](http://localhost:6006/) in browser\n"
   ]
  },
  {
   "cell_type": "code",
   "execution_count": 28,
   "metadata": {},
   "outputs": [
    {
     "ename": "SyntaxError",
     "evalue": "invalid syntax (<ipython-input-28-f1f15e2adad4>, line 1)",
     "output_type": "error",
     "traceback": [
      "\u001b[1;36m  File \u001b[1;32m\"<ipython-input-28-f1f15e2adad4>\"\u001b[1;36m, line \u001b[1;32m1\u001b[0m\n\u001b[1;33m    tensorboard --logdir logs\\fit\u001b[0m\n\u001b[1;37m                         ^\u001b[0m\n\u001b[1;31mSyntaxError\u001b[0m\u001b[1;31m:\u001b[0m invalid syntax\n"
     ]
    }
   ],
   "source": [
    "tensorboard --logdir logs\\fit "
   ]
  }
 ],
 "metadata": {
  "kernelspec": {
   "display_name": "Python 3.9.12 ('ai')",
   "language": "python",
   "name": "python3"
  },
  "language_info": {
   "codemirror_mode": {
    "name": "ipython",
    "version": 3
   },
   "file_extension": ".py",
   "mimetype": "text/x-python",
   "name": "python",
   "nbconvert_exporter": "python",
   "pygments_lexer": "ipython3",
   "version": "3.9.12"
  },
  "vscode": {
   "interpreter": {
    "hash": "1f261d6473f1dd2b46c53affda8b45565a09c2039f31152146d1a5fcb65cff0b"
   }
  }
 },
 "nbformat": 4,
 "nbformat_minor": 2
}
