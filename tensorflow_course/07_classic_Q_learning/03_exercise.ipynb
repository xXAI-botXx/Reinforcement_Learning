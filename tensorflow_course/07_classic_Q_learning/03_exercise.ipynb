{
 "cells": [
  {
   "cell_type": "markdown",
   "id": "e0f70e03",
   "metadata": {},
   "source": [
    "___\n",
    "\n",
    "<a href='http://www.pieriandata.com'><img src='../COURSE_NOTEBOOKS/Pierian_Data_Logo.png'/></a>\n",
    "___\n",
    "<center><em>Copyright by Pierian Data Inc.</em></center>\n",
    "<center><em>For more information, visit us at <a href='http://www.pieriandata.com'>www.pieriandata.com</a></em></center>"
   ]
  },
  {
   "cell_type": "markdown",
   "id": "7a938939",
   "metadata": {},
   "source": [
    "# Q Learning Exercise "
   ]
  },
  {
   "cell_type": "markdown",
   "id": "a82c5575",
   "metadata": {},
   "source": [
    "**We'll be reviewing and testing your skills with Q-Learning on a continuous space! Please feel free to reference the lecture notebooks you are definitely not expected to be able to fill out all this code from memory, just the ability to understand the core concepts and apply it to a different situation.**\n",
    "\n",
    "--------------------\n",
    "\n",
    "## Complete the tasks in bold below."
   ]
  },
  {
   "cell_type": "markdown",
   "id": "2147ae69",
   "metadata": {},
   "source": [
    "In this exercise we take a look at the MountainCar-v0 (https://gym.openai.com/envs/MountainCar-v0/) game again. That is the game from our original discussion of OpenAi gym environments for which we created an agent manually.\n",
    "Remember, that the goal is to reach the top of the mountain within some time limit\n",
    "\n",
    "-----"
   ]
  },
  {
   "cell_type": "markdown",
   "id": "afc8b2ce",
   "metadata": {},
   "source": [
    "**TASK: Import any relevant libraries you think you might need.** <br />\n"
   ]
  },
  {
   "cell_type": "code",
   "execution_count": 1,
   "id": "11e0d486",
   "metadata": {},
   "outputs": [],
   "source": [
    "import time\n",
    "\n",
    "import numpy as np\n",
    "import matplotlib.pyplot as plt\n",
    "\n",
    "import gym"
   ]
  },
  {
   "cell_type": "markdown",
   "id": "4c6f7e28",
   "metadata": {},
   "source": [
    "**TASK: Create the gym mountain car environment** <br />\n"
   ]
  },
  {
   "cell_type": "code",
   "execution_count": 2,
   "id": "d001763e",
   "metadata": {},
   "outputs": [
    {
     "name": "stderr",
     "output_type": "stream",
     "text": [
      "C:\\Users\\tobia\\AppData\\Roaming\\Python\\Python39\\site-packages\\ipykernel\\ipkernel.py:283: DeprecationWarning: `should_run_async` will not call `transform_cell` automatically in the future. Please pass the result to `transformed_cell` argument and any exception that happen during thetransform in `preprocessing_exc_tuple` in IPython 7.17 and above.\n",
      "  and should_run_async(code)\n",
      "c:\\Users\\tobia\\.conda\\envs\\ai\\lib\\site-packages\\gym\\core.py:329: DeprecationWarning: \u001b[33mWARN: Initializing wrapper in old step API which returns one bool instead of two. It is recommended to set `new_step_api=True` to use new step API. This will be the default behaviour in future.\u001b[0m\n",
      "  deprecation(\n",
      "c:\\Users\\tobia\\.conda\\envs\\ai\\lib\\site-packages\\gym\\wrappers\\step_api_compatibility.py:39: DeprecationWarning: \u001b[33mWARN: Initializing environment in old step API which returns one bool instead of two. It is recommended to set `new_step_api=True` to use new step API. This will be the default behaviour in future.\u001b[0m\n",
      "  deprecation(\n"
     ]
    }
   ],
   "source": [
    "env = gym.make('MountainCar-v0')"
   ]
  },
  {
   "cell_type": "markdown",
   "id": "171192c3",
   "metadata": {},
   "source": [
    "**TASK: Write a function to create a numpy array holding the bins for the observations of the car (position and velocity).** <br />\n",
    "Feel free to explore different bins per observation spacings.\n",
    "The function should take one argument which acts as the bins per observation <br />\n",
    "Hint: You can find the observations here: https://github.com/openai/gym/blob/master/gym/envs/classic_control/mountain_car.py\n",
    "<br /> Hint: You will probably need around 25 bins for good results, but feel free to use less to reduce training time. <br />\n"
   ]
  },
  {
   "cell_type": "markdown",
   "id": "d5519e87",
   "metadata": {},
   "source": [
    "exploration"
   ]
  },
  {
   "cell_type": "code",
   "execution_count": 3,
   "id": "686b1c0e",
   "metadata": {},
   "outputs": [
    {
     "name": "stdout",
     "output_type": "stream",
     "text": [
      "[-0.3713549   0.01236658]\n",
      "[-0.6485203  -0.01170497]\n"
     ]
    }
   ],
   "source": [
    "# check the env's values\n",
    "env.reset()\n",
    "\n",
    "obs = []\n",
    "\n",
    "for step in range(100):\n",
    "    observations, reward, done, info = env.step(env.action_space.sample())\n",
    "\n",
    "    obs += [observations]\n",
    "\n",
    "env.close()\n",
    "\n",
    "print(np.max(obs, axis=0))\n",
    "print(np.min(obs, axis=0))"
   ]
  },
  {
   "cell_type": "code",
   "execution_count": 4,
   "id": "e4e0ab04",
   "metadata": {},
   "outputs": [],
   "source": [
    "def create_bins(num_bins_per_observation):\n",
    "    # position\n",
    "    # -inf, inf\n",
    "    discrete_position = np.linspace(-1.2, 0.6, num_bins_per_observation)\n",
    "\n",
    "    # velocity\n",
    "    discrete_velocity = np.linspace(-0.07, 0.07, num_bins_per_observation)\n",
    "\n",
    "    bins = np.array([discrete_position,\n",
    "                    discrete_velocity])\n",
    "\n",
    "    return bins"
   ]
  },
  {
   "cell_type": "markdown",
   "id": "9c16f6a1",
   "metadata": {},
   "source": [
    "**TASK: Here you should write the code which creates the bins and defines the NUM_BINS attribute**"
   ]
  },
  {
   "cell_type": "code",
   "execution_count": 5,
   "id": "c1b2b0ac",
   "metadata": {},
   "outputs": [
    {
     "data": {
      "text/plain": [
       "array([[-1.2       , -1.125     , -1.05      , -0.975     , -0.9       ,\n",
       "        -0.825     , -0.75      , -0.675     , -0.6       , -0.525     ,\n",
       "        -0.45      , -0.375     , -0.3       , -0.225     , -0.15      ,\n",
       "        -0.075     ,  0.        ,  0.075     ,  0.15      ,  0.225     ,\n",
       "         0.3       ,  0.375     ,  0.45      ,  0.525     ,  0.6       ],\n",
       "       [-0.07      , -0.06416667, -0.05833333, -0.0525    , -0.04666667,\n",
       "        -0.04083333, -0.035     , -0.02916667, -0.02333333, -0.0175    ,\n",
       "        -0.01166667, -0.00583333,  0.        ,  0.00583333,  0.01166667,\n",
       "         0.0175    ,  0.02333333,  0.02916667,  0.035     ,  0.04083333,\n",
       "         0.04666667,  0.0525    ,  0.05833333,  0.06416667,  0.07      ]])"
      ]
     },
     "execution_count": 5,
     "metadata": {},
     "output_type": "execute_result"
    }
   ],
   "source": [
    "NUM_BINS = 25\n",
    "BINS = create_bins(NUM_BINS)\n",
    "BINS"
   ]
  },
  {
   "cell_type": "markdown",
   "id": "28446881",
   "metadata": {},
   "source": [
    "**TASK: Create a function that will take in observations from the environment and the bins array and return the discretized version of the observation.**"
   ]
  },
  {
   "cell_type": "markdown",
   "id": "bcceedae",
   "metadata": {},
   "source": [
    "Now we need the code to discretize the observations. We can use the same code as used in the last notebook"
   ]
  },
  {
   "cell_type": "code",
   "execution_count": 6,
   "id": "6365d656",
   "metadata": {},
   "outputs": [],
   "source": [
    "def discretize_observation(observations, bins):\n",
    "    # can be implemented with a for-loop as well\n",
    "    binned_observations = []\n",
    "\n",
    "    discrete_position = np.digitize(observations[0], bins[0]) \n",
    "    binned_observations += [discrete_position]\n",
    "\n",
    "    discrete_velocity = np.digitize(observations[1], bins[1]) \n",
    "    binned_observations += [discrete_velocity]\n",
    "\n",
    "    return tuple(binned_observations) # Important for later indexing"
   ]
  },
  {
   "cell_type": "markdown",
   "id": "b176faaf",
   "metadata": {},
   "source": [
    "**Let's check to make sure your previous two function calls work with a quick task! Otherwise it may be hard to debug later on.**"
   ]
  },
  {
   "cell_type": "markdown",
   "id": "7d2d8d8e",
   "metadata": {},
   "source": [
    "**TASK: Confirm that your *create_bins()* function works with *discretize_observation() by running the following cell***"
   ]
  },
  {
   "cell_type": "code",
   "execution_count": 7,
   "id": "c5eca009",
   "metadata": {},
   "outputs": [],
   "source": [
    "test_bins = create_bins(5)\n",
    "np.testing.assert_almost_equal(test_bins[0], [-1.2 , -0.75, -0.3 ,  0.15,  0.6])\n",
    "np.testing.assert_almost_equal(test_bins[1], [-0.07 , -0.035,  0.   ,  0.035,  0.07 ])\n",
    "\n",
    "test_observation = np.array([-0.9, 0.03])\n",
    "discretized_test_bins = discretize_observation(test_observation, test_bins)\n",
    "assert discretized_test_bins == (1, 3)"
   ]
  },
  {
   "cell_type": "markdown",
   "id": "1e2e71a8",
   "metadata": {},
   "source": [
    "**TASK: Create the Q-Table** <br />\n",
    "Remember the shape that the Q-Table needs to have."
   ]
  },
  {
   "cell_type": "code",
   "execution_count": 8,
   "id": "32b9bba7",
   "metadata": {},
   "outputs": [],
   "source": [
    "# CREATE THE Q TABLE\n",
    "q_table_shape = (NUM_BINS, NUM_BINS, env.action_space.n)\n",
    "q_table = np.zeros(q_table_shape)"
   ]
  },
  {
   "cell_type": "markdown",
   "id": "44d485ec",
   "metadata": {},
   "source": [
    "**TASK: Fill out the Epislon Greedy Action Selection function:**"
   ]
  },
  {
   "cell_type": "code",
   "execution_count": 9,
   "id": "ac943d8d",
   "metadata": {},
   "outputs": [],
   "source": [
    "def epsilon_greedy_action_selection(epsilon, q_table, discrete_state):\n",
    "    random_number = np.random.rand()\n",
    "    if epsilon < random_number:\n",
    "        action = np.argmax(q_table[discrete_state])\n",
    "    else:\n",
    "        action = env.action_space.sample()\n",
    "        # action = np.random.randint(0, env.action_space.n)\n",
    "    return action"
   ]
  },
  {
   "cell_type": "markdown",
   "id": "5b6f5ec4",
   "metadata": {},
   "source": [
    "**TASK: Fill out the function to compute the next Q value.**"
   ]
  },
  {
   "cell_type": "code",
   "execution_count": 10,
   "id": "a7ec635a",
   "metadata": {},
   "outputs": [],
   "source": [
    "def compute_next_q_value(old_q_value, reward, next_optimal_q_value):\n",
    "    return old_q_value + ALPHA * (reward + GAMMA*next_optimal_q_value - old_q_value)\n"
   ]
  },
  {
   "cell_type": "markdown",
   "id": "043548dc",
   "metadata": {},
   "source": [
    "**TASK: Create a function to reduce epsilon, feel free to choose any reduction method you want. We'll use a reduction with BURN_IN and EPSILON_END limits in the solution. We'll also show a way to reduce epsilon based on the number of epochs. Feel free to experiment here.**"
   ]
  },
  {
   "cell_type": "code",
   "execution_count": 11,
   "id": "ea236a4b",
   "metadata": {},
   "outputs": [],
   "source": [
    "def reduce_epsilon(epsilon, epoch):\n",
    "    if BURN_IN <= epsilon <= EPSILON_END:\n",
    "        epsilon -= EPSILON_REDUCE\n",
    "    return epsilon"
   ]
  },
  {
   "cell_type": "markdown",
   "id": "f2631b38",
   "metadata": {},
   "source": [
    "**TASK: Define your hyperparameters. Note, we'll show our solution hyperparameters here, but depending on your *reduce_epsilon* function, your epsilon hyperparameters may be different.**"
   ]
  },
  {
   "cell_type": "code",
   "execution_count": 12,
   "id": "60825d7b",
   "metadata": {},
   "outputs": [],
   "source": [
    "# Feel free to change!\n",
    "\n",
    "EPOCHS = 30000\n",
    "BURN_IN = 100\n",
    "epsilon = 1\n",
    "\n",
    "EPSILON_END= 25000\n",
    "EPSILON_REDUCE = 0.000001 \n",
    "\n",
    "ALPHA = 0.8\n",
    "GAMMA = 0.95"
   ]
  },
  {
   "cell_type": "markdown",
   "id": "f73abcf6",
   "metadata": {},
   "source": [
    "**TASK: Create the training loop for the reinforcement learning agent and run the loop. We've gone ahead and created the basic structure of the loopwith some comments. We also pre-filled the visualization portion.** <br />\n",
    "Note: Use the lecture notebook as a guide and reference"
   ]
  },
  {
   "cell_type": "code",
   "execution_count": 13,
   "id": "d671a646",
   "metadata": {},
   "outputs": [
    {
     "data": {
      "image/png": "[encoded data removed]",
      "text/plain": [
       "<Figure size 432x288 with 1 Axes>"
      ]
     },
     "metadata": {
      "needs_background": "light"
     },
     "output_type": "display_data"
    }
   ],
   "source": [
    "q_table = np.zeros(q_table_shape)\n",
    "epsilon = 1\n",
    "\n",
    "####### VISUALIZATION CODE FOR YOU. TOTALLY OPTIONAL. ##########################\n",
    "########## FEEL FREE TO REMOVE OR ADD YOUR OWN VISUAL CODE. #################\n",
    "\n",
    "log_interval = 100  # How often do we update the plot? (Just for performance reasons)\n",
    "### Here we set up the routine for the live plotting of the achieved points ######\n",
    "fig = plt.figure()\n",
    "ax = fig.add_subplot(111)\n",
    "plt.ion()\n",
    "fig.canvas.draw()\n",
    "\n",
    "max_position_log = []  # to store all achieved points\n",
    "mean_positions_log = []  # to store a running mean of the last 30 results\n",
    "epochs = []  # store the epoch for plotting\n",
    "\n",
    "\n",
    "#############################################################################\n",
    "################################## TRAINING TASKS ##########################\n",
    "###########################################################################\n",
    "for epoch in range(EPOCHS):\n",
    "    ################################# TODO ######################################\n",
    "    \n",
    "    # TODO: Get initial observation and discretize them. Set done to False\n",
    "    #########################################\n",
    "    initial_observation = env.reset()\n",
    "    discrete_state = discretize_observation(initial_observation, BINS)\n",
    "    done = False\n",
    "    ##########################################\n",
    "    \n",
    "    #############################\n",
    "    # These lines are for plotting.\n",
    "    max_position = -np.inf  \n",
    "    epochs.append(epoch)\n",
    "    #############################\n",
    "    \n",
    "    # TASK TO DO: As long as current run is alive (i.e not done) perform the following steps:\n",
    "    while not done:  # Perform current run as long as done is False (as long as there is still time to reach the top)\n",
    "\n",
    "        ##########################################\n",
    "        # TASK TO DO: Select action according to epsilon-greedy strategy\n",
    "        #########################################\n",
    "        action = epsilon_greedy_action_selection(epsilon, q_table, discrete_state)\n",
    "\n",
    "        ##########################################\n",
    "        # TASK TO DO: Perform selected action and get next state. Do not forget to discretize it\n",
    "        #########################################\n",
    "        next_state, reward, done, info = env.step(action)\n",
    "        discretized_next_state = discretize_observation(next_state, BINS)\n",
    "\n",
    "        ##########################################\n",
    "        # TASK TO DO: Get old Q-value from Q-Table and get next optimal Q-Value\n",
    "        #########################################\n",
    "        old_q_value = q_table[discrete_state + (action,)]\n",
    "        next_optimal_q_value = np.argmax(q_table[discretized_next_state + (action,)])\n",
    "\n",
    "        ##########################################\n",
    "        # TASK TO DO: Compute next Q-Value and insert it into the table\n",
    "        #########################################\n",
    "        next_q = compute_next_q_value(old_q_value, reward, next_optimal_q_value)\n",
    "        q_table[discrete_state + (action,)] = next_q\n",
    "\n",
    "        ##########################################\n",
    "        # TASK TO DO: Update the old state with the new one\n",
    "        #########################################\n",
    "        discrete_state = discretized_next_state\n",
    "\n",
    "        ##########################################\n",
    "        \n",
    "        \n",
    "        ##############################\n",
    "        ##  Only for plotting the results - store the highest point the car is able to reach\n",
    "        position = discretized_next_state[0]  #next_state[0]\n",
    "        if position > max_position:  \n",
    "            max_position = position\n",
    "\n",
    "    # TASK TO DO: Reduce epsilon\n",
    "    #########################################\n",
    "    epsilon = reduce_epsilon(epsilon, epoch)\n",
    "    ##########################################\n",
    "    ##############################################################################\n",
    "\n",
    "    max_position_log.append(max_position)  # log the highest position the car was able to reach\n",
    "    running_mean = round(np.mean(max_position_log[-30:]), 2)  # Compute running mean of position over the last 30 epochs\n",
    "    mean_positions_log.append(running_mean)  # and log it\n",
    "    \n",
    "    ################ Plot the points and running mean ##################\n",
    "    if epoch % log_interval == 0:\n",
    "        ax.clear()\n",
    "        ax.scatter(epochs, max_position_log)\n",
    "        ax.plot(epochs, max_position_log)\n",
    "        ax.plot(epochs, mean_positions_log, label=f\"Running Mean: {running_mean}\")\n",
    "        plt.legend()\n",
    "        fig.canvas.draw()\n",
    "  ######################################################################\n",
    "\n",
    "env.close()\n"
   ]
  },
  {
   "cell_type": "markdown",
   "id": "fe063fab",
   "metadata": {},
   "source": [
    "**(numpy) what means array[i + (j,)]**"
   ]
  },
  {
   "cell_type": "code",
   "execution_count": 14,
   "id": "b18c7a84",
   "metadata": {},
   "outputs": [
    {
     "data": {
      "text/plain": [
       "array([[1, 2, 3],\n",
       "       [4, 5, 6],\n",
       "       [7, 8, 9]])"
      ]
     },
     "execution_count": 14,
     "metadata": {},
     "output_type": "execute_result"
    }
   ],
   "source": [
    "arr = np.arange(1, 10).reshape(3, 3)\n",
    "arr"
   ]
  },
  {
   "cell_type": "code",
   "execution_count": 15,
   "id": "8e7397e9",
   "metadata": {},
   "outputs": [
    {
     "data": {
      "text/plain": [
       "array([1, 2, 3])"
      ]
     },
     "execution_count": 15,
     "metadata": {},
     "output_type": "execute_result"
    }
   ],
   "source": [
    "arr[0]"
   ]
  },
  {
   "cell_type": "code",
   "execution_count": 16,
   "id": "3911ee45",
   "metadata": {},
   "outputs": [
    {
     "data": {
      "text/plain": [
       "1"
      ]
     },
     "execution_count": 16,
     "metadata": {},
     "output_type": "execute_result"
    }
   ],
   "source": [
    "arr[0][0]"
   ]
  },
  {
   "cell_type": "code",
   "execution_count": 17,
   "id": "e2b865df",
   "metadata": {},
   "outputs": [
    {
     "data": {
      "text/plain": [
       "1"
      ]
     },
     "execution_count": 17,
     "metadata": {},
     "output_type": "execute_result"
    }
   ],
   "source": [
    "arr[0,0]"
   ]
  },
  {
   "cell_type": "code",
   "execution_count": 18,
   "id": "64cf68c1",
   "metadata": {},
   "outputs": [
    {
     "data": {
      "text/plain": [
       "1"
      ]
     },
     "execution_count": 18,
     "metadata": {},
     "output_type": "execute_result"
    }
   ],
   "source": [
    "arr[(0,) + (0,)]"
   ]
  },
  {
   "cell_type": "markdown",
   "id": "0ea5bcac",
   "metadata": {},
   "source": [
    "=> with 'q_table[discrete_state + (action,)]' we adding the action to the state, so we have all indexes to get to a value"
   ]
  },
  {
   "cell_type": "markdown",
   "id": "3e5de67a",
   "metadata": {},
   "source": [
    "**TASK: Use your Q-Table to test your agent and render its performance.**"
   ]
  },
  {
   "cell_type": "code",
   "execution_count": 19,
   "id": "39fbe789",
   "metadata": {
    "scrolled": true
   },
   "outputs": [
    {
     "name": "stderr",
     "output_type": "stream",
     "text": [
      "c:\\Users\\tobia\\.conda\\envs\\ai\\lib\\site-packages\\gym\\core.py:57: DeprecationWarning: \u001b[33mWARN: You are calling render method, but you didn't specified the argument render_mode at environment initialization. To maintain backward compatibility, the environment will render in human mode.\n",
      "If you want to render in human mode, initialize the environment in this way: gym.make('EnvName', render_mode='human') and don't call the render method.\n",
      "See here for more information: https://www.gymlibrary.ml/content/api/\u001b[0m\n",
      "  deprecation(\n"
     ]
    },
    {
     "name": "stdout",
     "output_type": "stream",
     "text": [
      "It's done! Reward = -1.0\n"
     ]
    }
   ],
   "source": [
    "env = gym.make('MountainCar-v0')\n",
    "observation = env.reset()\n",
    "\n",
    "for step in range(10000):\n",
    "    env.render()\n",
    "    # get the action with max q_value\n",
    "    discretized_observation = discretize_observation(observation, BINS)\n",
    "    action = np.argmax(q_table[discretized_observation])\n",
    "    # make turn\n",
    "    observation, reward, done, info = env.step(action)\n",
    "\n",
    "    if done:\n",
    "        print(f\"It's done! Reward = {reward}\")\n",
    "        break\n",
    "\n",
    "    time.sleep(0.03)"
   ]
  },
  {
   "cell_type": "markdown",
   "id": "5d77b6e7",
   "metadata": {},
   "source": [
    "**OPTIONAL: Play with our Q-Table with 40 bins per observation.**"
   ]
  },
  {
   "cell_type": "code",
   "execution_count": 20,
   "id": "831daba7",
   "metadata": {},
   "outputs": [],
   "source": [
    "# We saved our matrix q_table for you (with 40 bins)"
   ]
  },
  {
   "cell_type": "code",
   "execution_count": 21,
   "id": "1e16f226",
   "metadata": {},
   "outputs": [
    {
     "ename": "FileNotFoundError",
     "evalue": "[Errno 2] No such file or directory: '40bin_qtable_mountaincar.npy'",
     "output_type": "error",
     "traceback": [
      "\u001b[1;31m---------------------------------------------------------------------------\u001b[0m",
      "\u001b[1;31mFileNotFoundError\u001b[0m                         Traceback (most recent call last)",
      "\u001b[1;32m<ipython-input-21-8542a3579a89>\u001b[0m in \u001b[0;36m<module>\u001b[1;34m\u001b[0m\n\u001b[1;32m----> 1\u001b[1;33m \u001b[0mour_q_table\u001b[0m \u001b[1;33m=\u001b[0m \u001b[0mnp\u001b[0m\u001b[1;33m.\u001b[0m\u001b[0mload\u001b[0m\u001b[1;33m(\u001b[0m\u001b[1;34m'40bin_qtable_mountaincar.npy'\u001b[0m\u001b[1;33m)\u001b[0m\u001b[1;33m\u001b[0m\u001b[1;33m\u001b[0m\u001b[0m\n\u001b[0m",
      "\u001b[1;32mc:\\Users\\tobia\\.conda\\envs\\ai\\lib\\site-packages\\numpy\\lib\\npyio.py\u001b[0m in \u001b[0;36mload\u001b[1;34m(file, mmap_mode, allow_pickle, fix_imports, encoding)\u001b[0m\n\u001b[0;32m    415\u001b[0m             \u001b[0mown_fid\u001b[0m \u001b[1;33m=\u001b[0m \u001b[1;32mFalse\u001b[0m\u001b[1;33m\u001b[0m\u001b[1;33m\u001b[0m\u001b[0m\n\u001b[0;32m    416\u001b[0m         \u001b[1;32melse\u001b[0m\u001b[1;33m:\u001b[0m\u001b[1;33m\u001b[0m\u001b[1;33m\u001b[0m\u001b[0m\n\u001b[1;32m--> 417\u001b[1;33m             \u001b[0mfid\u001b[0m \u001b[1;33m=\u001b[0m \u001b[0mstack\u001b[0m\u001b[1;33m.\u001b[0m\u001b[0menter_context\u001b[0m\u001b[1;33m(\u001b[0m\u001b[0mopen\u001b[0m\u001b[1;33m(\u001b[0m\u001b[0mos_fspath\u001b[0m\u001b[1;33m(\u001b[0m\u001b[0mfile\u001b[0m\u001b[1;33m)\u001b[0m\u001b[1;33m,\u001b[0m \u001b[1;34m\"rb\"\u001b[0m\u001b[1;33m)\u001b[0m\u001b[1;33m)\u001b[0m\u001b[1;33m\u001b[0m\u001b[1;33m\u001b[0m\u001b[0m\n\u001b[0m\u001b[0;32m    418\u001b[0m             \u001b[0mown_fid\u001b[0m \u001b[1;33m=\u001b[0m \u001b[1;32mTrue\u001b[0m\u001b[1;33m\u001b[0m\u001b[1;33m\u001b[0m\u001b[0m\n\u001b[0;32m    419\u001b[0m \u001b[1;33m\u001b[0m\u001b[0m\n",
      "\u001b[1;31mFileNotFoundError\u001b[0m: [Errno 2] No such file or directory: '40bin_qtable_mountaincar.npy'"
     ]
    }
   ],
   "source": [
    "our_q_table = np.load('40bin_qtable_mountaincar.npy')"
   ]
  },
  {
   "cell_type": "code",
   "execution_count": null,
   "id": "1832a448",
   "metadata": {},
   "outputs": [
    {
     "data": {
      "text/plain": [
       "(40, 40, 3)"
      ]
     },
     "execution_count": 44,
     "metadata": {},
     "output_type": "execute_result"
    }
   ],
   "source": [
    "our_q_table.shape"
   ]
  },
  {
   "cell_type": "markdown",
   "id": "7a1045da",
   "metadata": {},
   "source": [
    "**Great job! Note how you could train for many more epochs/episodes or edit hyperparameters, the more complex the environment, the more choices you have to experiment with!**"
   ]
  }
 ],
 "metadata": {
  "kernelspec": {
   "display_name": "Python 3.9.12 ('ai')",
   "language": "python",
   "name": "python3"
  },
  "language_info": {
   "codemirror_mode": {
    "name": "ipython",
    "version": 3
   },
   "file_extension": ".py",
   "mimetype": "text/x-python",
   "name": "python",
   "nbconvert_exporter": "python",
   "pygments_lexer": "ipython3",
   "version": "3.9.12"
  },
  "vscode": {
   "interpreter": {
    "hash": "1f261d6473f1dd2b46c53affda8b45565a09c2039f31152146d1a5fcb65cff0b"
   }
  }
 },
 "nbformat": 4,
 "nbformat_minor": 5
}
