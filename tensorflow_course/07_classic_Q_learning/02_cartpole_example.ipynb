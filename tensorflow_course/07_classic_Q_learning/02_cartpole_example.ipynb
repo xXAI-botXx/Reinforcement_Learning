{
 "cells": [
  {
   "cell_type": "markdown",
   "metadata": {},
   "source": [
    "# Reinforcement Learning (Q-Learning) for solving Cartpole\n",
    "\n",
    "The goal is to move the cart so that the pole stays balanced. And a big problem here is that there isn't a discrete number of states. Because the cart can stay on multiple positions from -4.8 to 4.8 and with infinite between values.\n",
    "\n",
    "Action space is very simple: push car left or push car right"
   ]
  },
  {
   "cell_type": "markdown",
   "metadata": {},
   "source": [
    "to solve:\n",
    "\n",
    "from continous state-space **to** discrete state-space\n",
    "\n",
    "state-space or observation-space"
   ]
  },
  {
   "cell_type": "markdown",
   "metadata": {},
   "source": [
    "reminder: \n",
    "- a **state** contains all information about the environment\n",
    "- a **observation** contains a set of information about the environment (can contains all, then its like a state)"
   ]
  },
  {
   "cell_type": "markdown",
   "metadata": {},
   "source": [
    "**imports**"
   ]
  },
  {
   "cell_type": "code",
   "execution_count": 1,
   "metadata": {},
   "outputs": [],
   "source": [
    "%matplotlib notebook\n",
    "import time\n",
    "import gym\n",
    "\n",
    "import numpy as np\n",
    "import matplotlib.pyplot as plt"
   ]
  },
  {
   "cell_type": "markdown",
   "metadata": {},
   "source": [
    "**env exploration**"
   ]
  },
  {
   "cell_type": "code",
   "execution_count": 2,
   "metadata": {},
   "outputs": [
    {
     "name": "stderr",
     "output_type": "stream",
     "text": [
      "C:\\Users\\tobia\\AppData\\Roaming\\Python\\Python39\\site-packages\\ipykernel\\ipkernel.py:283: DeprecationWarning: `should_run_async` will not call `transform_cell` automatically in the future. Please pass the result to `transformed_cell` argument and any exception that happen during thetransform in `preprocessing_exc_tuple` in IPython 7.17 and above.\n",
      "  and should_run_async(code)\n",
      "c:\\Users\\tobia\\.conda\\envs\\ai\\lib\\site-packages\\gym\\core.py:329: DeprecationWarning: \u001b[33mWARN: Initializing wrapper in old step API which returns one bool instead of two. It is recommended to set `new_step_api=True` to use new step API. This will be the default behaviour in future.\u001b[0m\n",
      "  deprecation(\n",
      "c:\\Users\\tobia\\.conda\\envs\\ai\\lib\\site-packages\\gym\\wrappers\\step_api_compatibility.py:39: DeprecationWarning: \u001b[33mWARN: Initializing environment in old step API which returns one bool instead of two. It is recommended to set `new_step_api=True` to use new step API. This will be the default behaviour in future.\u001b[0m\n",
      "  deprecation(\n"
     ]
    }
   ],
   "source": [
    "env = gym.make('CartPole-v1')\n",
    "\n",
    "env.reset()\n",
    "\n",
    "for step in range(2):\n",
    "    #env.render()\n",
    "    action = env.action_space.sample()\n",
    "    observation, reward, done, info = env.step(action)\n",
    "\n",
    "    if done:\n",
    "        break\n",
    "\n",
    "    #time.sleep(0.03)\n",
    "\n",
    "env.close()"
   ]
  },
  {
   "cell_type": "code",
   "execution_count": 3,
   "metadata": {},
   "outputs": [
    {
     "data": {
      "text/plain": [
       "array([-0.02266203, -0.37836283, -0.02658591,  0.56688344], dtype=float32)"
      ]
     },
     "execution_count": 3,
     "metadata": {},
     "output_type": "execute_result"
    }
   ],
   "source": [
    "observation"
   ]
  },
  {
   "cell_type": "markdown",
   "metadata": {},
   "source": [
    "=> cart position, cart velocity, pole angle, angular velocity"
   ]
  },
  {
   "cell_type": "markdown",
   "metadata": {},
   "source": [
    "**solve continoues observation-space-problem**"
   ]
  },
  {
   "cell_type": "markdown",
   "metadata": {},
   "source": [
    "we have to bin the continous space in discrete space\n",
    "\n",
    "steps:\n",
    "- decide on number of total states\n",
    "- quantify range for continous values\n",
    "- create placeholder arrays\n",
    "- create function for placing continoues value into defined bin in placeholder array"
   ]
  },
  {
   "cell_type": "code",
   "execution_count": 4,
   "metadata": {},
   "outputs": [],
   "source": [
    "def create_bins(num_bins_per_obs=10):\n",
    "\n",
    "    # BINNING CART_POSITION\n",
    "    bins_cart_position = np.linspace(-4.8, 4.8, num_bins_per_obs)\n",
    "\n",
    "    # BINNING CART_VELOCITY\n",
    "    # to choose which numbers for -inf to inf -> you have to play it and choose a range\n",
    "    bins_cart_velocity = np.linspace(-5, 5, num_bins_per_obs)\n",
    "\n",
    "    # BINNING POLE ANGLE\n",
    "    bins_pole_angle = np.linspace(-0.418, 0.418, num_bins_per_obs)\n",
    "\n",
    "    # BINNING ANGULAR VELOCITY\n",
    "    bins_angular_velocity = np.linspace(-5, 5, num_bins_per_obs)\n",
    "\n",
    "    bins = np.array([bins_cart_position,\n",
    "                    bins_cart_velocity,\n",
    "                    bins_pole_angle,\n",
    "                    bins_angular_velocity])\n",
    "\n",
    "    return bins"
   ]
  },
  {
   "cell_type": "code",
   "execution_count": 5,
   "metadata": {},
   "outputs": [
    {
     "data": {
      "text/plain": [
       "array([[-4.8       , -3.73333333, -2.66666667, -1.6       , -0.53333333,\n",
       "         0.53333333,  1.6       ,  2.66666667,  3.73333333,  4.8       ],\n",
       "       [-5.        , -3.88888889, -2.77777778, -1.66666667, -0.55555556,\n",
       "         0.55555556,  1.66666667,  2.77777778,  3.88888889,  5.        ],\n",
       "       [-0.418     , -0.32511111, -0.23222222, -0.13933333, -0.04644444,\n",
       "         0.04644444,  0.13933333,  0.23222222,  0.32511111,  0.418     ],\n",
       "       [-5.        , -3.88888889, -2.77777778, -1.66666667, -0.55555556,\n",
       "         0.55555556,  1.66666667,  2.77777778,  3.88888889,  5.        ]])"
      ]
     },
     "execution_count": 5,
     "metadata": {},
     "output_type": "execute_result"
    }
   ],
   "source": [
    "NUM_BINS = 10\n",
    "BINS = create_bins(NUM_BINS)\n",
    "BINS"
   ]
  },
  {
   "cell_type": "markdown",
   "metadata": {},
   "source": [
    "binning index"
   ]
  },
  {
   "cell_type": "code",
   "execution_count": 6,
   "metadata": {},
   "outputs": [],
   "source": [
    "def discretize_observations(observations, bins):\n",
    "    binned_observations = []\n",
    "\n",
    "    for obs_idx, observation in enumerate(observations):\n",
    "        discretized_observation = np.digitize(observation, bins[obs_idx])\n",
    "        binned_observations += [discretized_observation]\n",
    "\n",
    "    return tuple(binned_observations)"
   ]
  },
  {
   "cell_type": "markdown",
   "metadata": {},
   "source": [
    "testing"
   ]
  },
  {
   "cell_type": "code",
   "execution_count": 7,
   "metadata": {},
   "outputs": [
    {
     "data": {
      "text/plain": [
       "array([-0.00858256,  0.03337753, -0.01270899,  0.02521794], dtype=float32)"
      ]
     },
     "execution_count": 7,
     "metadata": {},
     "output_type": "execute_result"
    }
   ],
   "source": [
    "observations = env.reset()\n",
    "observations"
   ]
  },
  {
   "cell_type": "code",
   "execution_count": 8,
   "metadata": {},
   "outputs": [
    {
     "data": {
      "text/plain": [
       "(5, 5, 5, 5)"
      ]
     },
     "execution_count": 8,
     "metadata": {},
     "output_type": "execute_result"
    }
   ],
   "source": [
    "mapped_observations = discretize_observations(observations, BINS)\n",
    "mapped_observations"
   ]
  },
  {
   "cell_type": "markdown",
   "metadata": {},
   "source": [
    "=> all are in the middle of the bins -> 0-10, which is at the start normal"
   ]
  },
  {
   "cell_type": "markdown",
   "metadata": {},
   "source": [
    "**q table set up**"
   ]
  },
  {
   "cell_type": "code",
   "execution_count": 9,
   "metadata": {},
   "outputs": [
    {
     "data": {
      "text/plain": [
       "(10, 10, 10, 10, 2)"
      ]
     },
     "execution_count": 9,
     "metadata": {},
     "output_type": "execute_result"
    }
   ],
   "source": [
    "q_table_shape = (NUM_BINS, NUM_BINS, NUM_BINS, NUM_BINS, env.action_space.n)\n",
    "q_table_shape"
   ]
  },
  {
   "cell_type": "code",
   "execution_count": 10,
   "metadata": {},
   "outputs": [],
   "source": [
    "q_table = np.zeros(q_table_shape)"
   ]
  },
  {
   "cell_type": "markdown",
   "metadata": {},
   "source": [
    "**hyperparameter**"
   ]
  },
  {
   "cell_type": "code",
   "execution_count": 11,
   "metadata": {},
   "outputs": [],
   "source": [
    "# how many times the agent plays the game\n",
    "EPOCHS = 20000 # Episodes\n",
    "\n",
    "# learning rate\n",
    "ALPHA = 0.8\n",
    "\n",
    "# discount-rate\n",
    "# should be a little smaller than 1\n",
    "GAMMA = 0.9"
   ]
  },
  {
   "cell_type": "code",
   "execution_count": 12,
   "metadata": {},
   "outputs": [],
   "source": [
    "# eploration vs exploitation params\n",
    "\n",
    "# eploration rate\n",
    "epsilon = 1.0\n",
    "BURN_IN = 1\n",
    "EPSILON_END = 10000\n",
    "EPSILON_REDUCE = 0.0001"
   ]
  },
  {
   "cell_type": "markdown",
   "metadata": {},
   "source": [
    "**defining update functions**"
   ]
  },
  {
   "cell_type": "code",
   "execution_count": 13,
   "metadata": {},
   "outputs": [],
   "source": [
    "def epsilon_greedy_action_selection(epsilon, q_table, discrete_state):\n",
    "    random_number = np.random.random()\n",
    "\n",
    "    # EXPLOTATION (choose the action that maximizes Q)\n",
    "    if random_number > epsilon:\n",
    "        action = np.argmax(q_table[discrete_state])\n",
    "\n",
    "    # EXPLORATION (choose a random action)\n",
    "    else:\n",
    "        # Return a random 0, 1, 2, 3 action\n",
    "        #action = env.action_space.sample()\n",
    "        action = np.random.randint(0, env.action_space.n)\n",
    "    return action"
   ]
  },
  {
   "cell_type": "code",
   "execution_count": 14,
   "metadata": {},
   "outputs": [],
   "source": [
    "def compute_next_q_value(old_q_value, reward, next_optimal_q_value):\n",
    "    return old_q_value + ALPHA * (reward + GAMMA*next_optimal_q_value - old_q_value)"
   ]
  },
  {
   "cell_type": "code",
   "execution_count": 15,
   "metadata": {},
   "outputs": [],
   "source": [
    "def reduce_epsilon(epsilon, epoch):\n",
    "    # linear reducing epsilon within a threshold of time\n",
    "    if BURN_IN <= epoch <= EPSILON_END:\n",
    "        epsilon -= EPSILON_REDUCE\n",
    "    return epsilon"
   ]
  },
  {
   "cell_type": "code",
   "execution_count": 16,
   "metadata": {},
   "outputs": [],
   "source": [
    "# reward is in this environment not good\n",
    "def fail(done, points, reward):\n",
    "    if done and points < 150:\n",
    "        reward = -200\n",
    "    return reward"
   ]
  },
  {
   "cell_type": "markdown",
   "metadata": {},
   "source": [
    "**agent training**"
   ]
  },
  {
   "cell_type": "code",
   "execution_count": 17,
   "metadata": {},
   "outputs": [
    {
     "data": {
      "image/png": "[encoded data removed]",
      "text/plain": [
       "<Figure size 432x288 with 1 Axes>"
      ]
     },
     "metadata": {
      "needs_background": "light"
     },
     "output_type": "display_data"
    }
   ],
   "source": [
    "%matplotlib inline\n",
    "\n",
    "env = gym.make('CartPole-v1')\n",
    "q_table = np.zeros(q_table_shape)\n",
    "\n",
    "should_render = False \n",
    "\n",
    "####### VISUALIZATION #######\n",
    "log_interval = 500\n",
    "render_interval = 30000    # set like you will\n",
    "\n",
    "fig = plt.figure()\n",
    "ax = fig.add_subplot(111)\n",
    "plt.ion()\n",
    "fig.canvas.draw()\n",
    "#############################\n",
    "\n",
    "points_log = []\n",
    "mean_points_log = []\n",
    "epochs = []\n",
    "\n",
    "#############################\n",
    "\n",
    "for epoch in range(EPOCHS):\n",
    "    initial_state = env.reset()\n",
    "    discretized_state = discretize_observations(initial_state, BINS)\n",
    "    done = False\n",
    "    points = 0\n",
    "\n",
    "    # PLAY GAME\n",
    "    while not done:\n",
    "        if should_render:\n",
    "            env.render() \n",
    "\n",
    "        action = epsilon_greedy_action_selection(epsilon, q_table, discretized_state)\n",
    "        try:\n",
    "            next_state, reward, done, info = env.step(action)\n",
    "        except AssertionError as e:\n",
    "            print(f\"Error by action: {action}\")\n",
    "            raise e\n",
    "\n",
    "        reward = fail(done, points, reward)\n",
    "\n",
    "        next_state_dicretized = discretize_observations(next_state, BINS)\n",
    "\n",
    "        old_q_value = q_table[discretized_state + (action, )]\n",
    "        #print(old_q_value)\n",
    "        next_optimal_q_value = np.max(q_table[next_state_dicretized])\n",
    "\n",
    "        next_q = compute_next_q_value(old_q_value, reward, next_optimal_q_value)\n",
    "        q_table[discretized_state + (action, )] = next_q\n",
    "\n",
    "        # setup for next round\n",
    "        discretized_state = next_state_dicretized\n",
    "        points += 1\n",
    "\n",
    "        if should_render:\n",
    "            time.sleep(0.03)\n",
    "\n",
    "    epsilon = reduce_epsilon(epsilon, epoch)\n",
    "    points_log += [points]\n",
    "    running_mean = round(np.mean(points_log[-30:]), 2)\n",
    "    mean_points_log += [running_mean]\n",
    "    epochs += [epoch]\n",
    "\n",
    "    #############################\n",
    "    if epoch % log_interval == 0:\n",
    "        ax.clear()\n",
    "        ax.scatter(epochs, points_log)\n",
    "        ax.plot(epochs, points_log)\n",
    "        ax.plot(epochs, mean_points_log, label=f'Running Mean: {running_mean}')\n",
    "        plt.legend()\n",
    "        fig.canvas.draw()\n",
    "\n",
    "env.close()"
   ]
  },
  {
   "cell_type": "markdown",
   "metadata": {},
   "source": [
    "**use agent**"
   ]
  },
  {
   "cell_type": "code",
   "execution_count": 20,
   "metadata": {},
   "outputs": [
    {
     "name": "stdout",
     "output_type": "stream",
     "text": [
      "You got 500 points!\n"
     ]
    }
   ],
   "source": [
    "env = gym.make('CartPole-v1')\n",
    "\n",
    "observation = env.reset()\n",
    "rewards = 0\n",
    "\n",
    "for step in range(1000):\n",
    "    env.render()\n",
    "    discrete_state = discretize_observations(observation, BINS)\n",
    "    action = np.argmax(q_table[discrete_state])\n",
    "    observation, reward, done, info = env.step(action)\n",
    "    rewards += 1\n",
    "\n",
    "    #time.sleep(0.03)\n",
    "\n",
    "    if done:\n",
    "        print(f\"You got {rewards} points!\")\n",
    "        break\n",
    "\n",
    "env.close()"
   ]
  },
  {
   "cell_type": "code",
   "execution_count": 39,
   "metadata": {},
   "outputs": [
    {
     "name": "stdout",
     "output_type": "stream",
     "text": [
      "You got 9 points!\n",
      "You got 10 points!\n",
      "You got 8 points!\n",
      "You got 36 points!\n",
      "You got 11 points!\n",
      "You got 15 points!\n",
      "You got 16 points!\n",
      "You got 21 points!\n",
      "You got 11 points!\n",
      "You got 31 points!\n",
      "You got 18 points!\n",
      "You got 10 points!\n",
      "You got 9 points!\n",
      "You got 10 points!\n",
      "You got 10 points!\n",
      "You got 9 points!\n",
      "You got 9 points!\n",
      "You got 9 points!\n",
      "You got 10 points!\n",
      "You got 10 points!\n",
      "You got 8 points!\n"
     ]
    }
   ],
   "source": [
    "import gym\n",
    "from gym.utils.play import play\n",
    "\n",
    "points = 0\n",
    "\n",
    "def info(obs_t, obs_tp1, action, rew, done, info):\n",
    "    global points \n",
    "    points += 1\n",
    "    if done:\n",
    "        print(f\"You got {points} points!\")\n",
    "        points = 0\n",
    "\n",
    "#play(gym.make(\"CartPole-v1\"), keys_to_action={\"a\": 0, \"d\": 1}, callback=info)"
   ]
  }
 ],
 "metadata": {
  "kernelspec": {
   "display_name": "Python 3",
   "language": "python",
   "name": "python3"
  },
  "language_info": {
   "codemirror_mode": {
    "name": "ipython",
    "version": 3
   },
   "file_extension": ".py",
   "mimetype": "text/x-python",
   "name": "python",
   "nbconvert_exporter": "python",
   "pygments_lexer": "ipython3",
   "version": "3.9.12"
  },
  "vscode": {
   "interpreter": {
    "hash": "1f261d6473f1dd2b46c53affda8b45565a09c2039f31152146d1a5fcb65cff0b"
   }
  }
 },
 "nbformat": 4,
 "nbformat_minor": 4
}
