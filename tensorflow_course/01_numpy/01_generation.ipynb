{
 "cells": [
  {
   "cell_type": "markdown",
   "id": "3c9530a1-dfe8-4322-8ae2-b0b4cb917d00",
   "metadata": {},
   "source": [
    "# NumPy Arrays Generation"
   ]
  },
  {
   "cell_type": "code",
   "execution_count": 1,
   "id": "c4c06181-31b0-43cf-9d8e-a2b1c670ee7a",
   "metadata": {},
   "outputs": [],
   "source": [
    "import numpy as np"
   ]
  },
  {
   "cell_type": "markdown",
   "id": "ebf8efe2-88f2-4dc2-b2e2-da6ae8092f84",
   "metadata": {},
   "source": [
    "---\n",
    "\n",
    "### From Python List"
   ]
  },
  {
   "cell_type": "code",
   "execution_count": 2,
   "id": "6072ab0d-443e-4c54-ae78-4d863db98ba7",
   "metadata": {},
   "outputs": [
    {
     "data": {
      "text/plain": [
       "list"
      ]
     },
     "execution_count": 2,
     "metadata": {},
     "output_type": "execute_result"
    }
   ],
   "source": [
    "my_list = [1, 2, 3]\n",
    "type(my_list)"
   ]
  },
  {
   "cell_type": "code",
   "execution_count": 3,
   "id": "dedb2c9e-d093-4e7b-93c6-13d6b4992e72",
   "metadata": {},
   "outputs": [
    {
     "data": {
      "text/plain": [
       "numpy.ndarray"
      ]
     },
     "execution_count": 3,
     "metadata": {},
     "output_type": "execute_result"
    }
   ],
   "source": [
    "my_array = np.array(mylist)\n",
    "type(my_array)"
   ]
  },
  {
   "cell_type": "code",
   "execution_count": 4,
   "id": "63c82912-778d-4a78-b931-da929225c1c0",
   "metadata": {},
   "outputs": [
    {
     "data": {
      "text/plain": [
       "array([[1, 2, 3],\n",
       "       [4, 5, 6],\n",
       "       [7, 8, 9]])"
      ]
     },
     "execution_count": 4,
     "metadata": {},
     "output_type": "execute_result"
    }
   ],
   "source": [
    "np.array([[1,2,3], [4,5,6], [7,8,9]])"
   ]
  },
  {
   "cell_type": "markdown",
   "id": "6642fd08-b190-4b5e-841f-14e9e522aae3",
   "metadata": {},
   "source": [
    "---\n",
    "\n",
    "### By method"
   ]
  },
  {
   "cell_type": "markdown",
   "id": "17779b71-7601-4720-ad4b-6157da463152",
   "metadata": {},
   "source": [
    "**np.arange**"
   ]
  },
  {
   "cell_type": "code",
   "execution_count": 15,
   "id": "84f4f049-c349-4d40-bafb-83f30778094a",
   "metadata": {},
   "outputs": [
    {
     "data": {
      "text/plain": [
       "array([1, 2, 3, 4, 5, 6, 7, 8, 9])"
      ]
     },
     "execution_count": 15,
     "metadata": {},
     "output_type": "execute_result"
    }
   ],
   "source": [
    "np.arange(1, 10, 1)"
   ]
  },
  {
   "cell_type": "code",
   "execution_count": 14,
   "id": "a6112346-3dfd-4b64-bda5-93ca20c70f34",
   "metadata": {},
   "outputs": [
    {
     "data": {
      "text/plain": [
       "array([[1, 2, 3],\n",
       "       [4, 5, 6],\n",
       "       [7, 8, 9]])"
      ]
     },
     "execution_count": 14,
     "metadata": {},
     "output_type": "execute_result"
    }
   ],
   "source": [
    "np.arange(1, 10, 1).reshape(3, -1)"
   ]
  },
  {
   "cell_type": "code",
   "execution_count": 16,
   "id": "f1b52ce0-88fc-4ff7-b80e-22996fe97afd",
   "metadata": {},
   "outputs": [
    {
     "data": {
      "text/plain": [
       "array([1, 3, 5, 7, 9])"
      ]
     },
     "execution_count": 16,
     "metadata": {},
     "output_type": "execute_result"
    }
   ],
   "source": [
    "np.arange(1, 10, 2)"
   ]
  },
  {
   "cell_type": "markdown",
   "id": "0ca59dc2-9d2a-4ed0-99f4-a91609086cbd",
   "metadata": {},
   "source": [
    "**np.zeros**"
   ]
  },
  {
   "cell_type": "code",
   "execution_count": 17,
   "id": "d017d2a4-039e-42a6-b4c4-2d8ba49bc163",
   "metadata": {},
   "outputs": [
    {
     "data": {
      "text/plain": [
       "array([0., 0., 0., 0., 0., 0., 0., 0., 0., 0., 0., 0., 0., 0., 0., 0., 0.,\n",
       "       0., 0., 0., 0., 0., 0., 0., 0., 0., 0., 0., 0., 0., 0., 0., 0., 0.,\n",
       "       0., 0., 0., 0., 0., 0., 0., 0., 0., 0., 0., 0., 0., 0., 0., 0., 0.,\n",
       "       0., 0., 0., 0., 0., 0., 0., 0., 0., 0., 0., 0., 0., 0., 0., 0., 0.,\n",
       "       0., 0., 0., 0., 0., 0., 0., 0., 0., 0., 0., 0., 0., 0., 0., 0., 0.,\n",
       "       0., 0., 0., 0., 0., 0., 0., 0., 0., 0., 0., 0., 0., 0., 0.])"
      ]
     },
     "execution_count": 17,
     "metadata": {},
     "output_type": "execute_result"
    }
   ],
   "source": [
    "np.zeros(100)"
   ]
  },
  {
   "cell_type": "code",
   "execution_count": 18,
   "id": "fa7b3249-9cec-44b4-9156-824e60fe7864",
   "metadata": {},
   "outputs": [
    {
     "data": {
      "text/plain": [
       "array([[0., 0., 0., 0., 0.],\n",
       "       [0., 0., 0., 0., 0.]])"
      ]
     },
     "execution_count": 18,
     "metadata": {},
     "output_type": "execute_result"
    }
   ],
   "source": [
    "np.zeros((2, 5))"
   ]
  },
  {
   "cell_type": "code",
   "execution_count": 19,
   "id": "993aa93e-0c6c-44f8-b062-1a6dd40b6dc9",
   "metadata": {},
   "outputs": [
    {
     "data": {
      "text/plain": [
       "array([[0., 0., 0., 0., 0.],\n",
       "       [0., 0., 0., 0., 0.]])"
      ]
     },
     "execution_count": 19,
     "metadata": {},
     "output_type": "execute_result"
    }
   ],
   "source": [
    "np.zeros(10).reshape(2, -1)"
   ]
  },
  {
   "cell_type": "markdown",
   "id": "07d9dce8-d838-421f-8f7b-b924fd238bfe",
   "metadata": {},
   "source": [
    "**np.ones**"
   ]
  },
  {
   "cell_type": "code",
   "execution_count": 20,
   "id": "b99f670a-4c40-4d3d-971b-32ff9af9a61d",
   "metadata": {},
   "outputs": [
    {
     "data": {
      "text/plain": [
       "array([1., 1., 1., 1., 1., 1., 1., 1., 1., 1., 1., 1., 1., 1., 1., 1., 1.,\n",
       "       1., 1., 1., 1., 1., 1., 1., 1., 1., 1., 1., 1., 1., 1., 1., 1., 1.,\n",
       "       1., 1., 1., 1., 1., 1., 1., 1., 1., 1., 1., 1., 1., 1., 1., 1., 1.,\n",
       "       1., 1., 1., 1., 1., 1., 1., 1., 1., 1., 1., 1., 1., 1., 1., 1., 1.,\n",
       "       1., 1., 1., 1., 1., 1., 1., 1., 1., 1., 1., 1., 1., 1., 1., 1., 1.,\n",
       "       1., 1., 1., 1., 1., 1., 1., 1., 1., 1., 1., 1., 1., 1., 1.])"
      ]
     },
     "execution_count": 20,
     "metadata": {},
     "output_type": "execute_result"
    }
   ],
   "source": [
    "np.ones(100)"
   ]
  },
  {
   "cell_type": "code",
   "execution_count": 21,
   "id": "c1838c2a-24cb-4118-9495-a029d234ac99",
   "metadata": {},
   "outputs": [
    {
     "data": {
      "text/plain": [
       "array([[1., 1., 1., 1., 1.],\n",
       "       [1., 1., 1., 1., 1.]])"
      ]
     },
     "execution_count": 21,
     "metadata": {},
     "output_type": "execute_result"
    }
   ],
   "source": [
    "np.ones((2, 5))"
   ]
  },
  {
   "cell_type": "code",
   "execution_count": 22,
   "id": "832d0df0-1a97-435d-83df-bc5ab95259fe",
   "metadata": {},
   "outputs": [
    {
     "data": {
      "text/plain": [
       "array([[1., 1., 1., 1., 1.],\n",
       "       [1., 1., 1., 1., 1.]])"
      ]
     },
     "execution_count": 22,
     "metadata": {},
     "output_type": "execute_result"
    }
   ],
   "source": [
    "np.ones(10).reshape(2, -1)"
   ]
  },
  {
   "cell_type": "markdown",
   "id": "c10b266e-c1a0-416e-b126-871c328d6e77",
   "metadata": {},
   "source": [
    "**np.linspace**"
   ]
  },
  {
   "cell_type": "code",
   "execution_count": 24,
   "id": "c4036ff7-5d17-468f-85c3-89b2bacea416",
   "metadata": {},
   "outputs": [
    {
     "data": {
      "text/plain": [
       "array([ 0.,  5., 10.])"
      ]
     },
     "execution_count": 24,
     "metadata": {},
     "output_type": "execute_result"
    }
   ],
   "source": [
    "np.linspace(0, 10, 3)"
   ]
  },
  {
   "cell_type": "code",
   "execution_count": 25,
   "id": "d78302bc-7b5c-4936-9d43-c939f7624369",
   "metadata": {},
   "outputs": [
    {
     "data": {
      "text/plain": [
       "array([ 0.,  1.,  2.,  3.,  4.,  5.,  6.,  7.,  8.,  9., 10.])"
      ]
     },
     "execution_count": 25,
     "metadata": {},
     "output_type": "execute_result"
    }
   ],
   "source": [
    "np.linspace(0, 10, 11)"
   ]
  },
  {
   "cell_type": "code",
   "execution_count": 26,
   "id": "559efae9-376a-4dc5-9224-5da3f5a3a2c7",
   "metadata": {},
   "outputs": [
    {
     "data": {
      "text/plain": [
       "array([ 0.,  1.,  2.,  3.,  4.,  5.,  6.,  7.,  8.,  9., 10., 11., 12.,\n",
       "       13., 14., 15., 16., 17., 18., 19., 20., 21., 22., 23., 24., 25.,\n",
       "       26., 27., 28., 29., 30., 31., 32., 33., 34., 35., 36., 37., 38.,\n",
       "       39., 40., 41., 42., 43., 44., 45., 46., 47., 48., 49., 50., 51.,\n",
       "       52., 53., 54., 55., 56.])"
      ]
     },
     "execution_count": 26,
     "metadata": {},
     "output_type": "execute_result"
    }
   ],
   "source": [
    "np.linspace(0, 56, 57)"
   ]
  },
  {
   "cell_type": "markdown",
   "id": "3b5afed6-133d-4a37-af07-d25a191f2a0b",
   "metadata": {},
   "source": [
    "**np.eye**"
   ]
  },
  {
   "cell_type": "code",
   "execution_count": 27,
   "id": "ff6b3e81-5cb0-4fcd-96c0-18924ea9bdab",
   "metadata": {},
   "outputs": [
    {
     "data": {
      "text/plain": [
       "array([[1., 0., 0., 0., 0.],\n",
       "       [0., 1., 0., 0., 0.],\n",
       "       [0., 0., 1., 0., 0.],\n",
       "       [0., 0., 0., 1., 0.],\n",
       "       [0., 0., 0., 0., 1.]])"
      ]
     },
     "execution_count": 27,
     "metadata": {},
     "output_type": "execute_result"
    }
   ],
   "source": [
    "np.eye(5)"
   ]
  },
  {
   "cell_type": "markdown",
   "id": "3fa1fa1c-6a7b-42ce-9a56-19520a943c63",
   "metadata": {},
   "source": [
    "---\n",
    "\n",
    "### generate random data"
   ]
  },
  {
   "cell_type": "markdown",
   "id": "d4304347-ef78-4235-8cf0-86a3a937a9a2",
   "metadata": {},
   "source": [
    "**np.random.rand**\n",
    "<br>0.0 - 1.0"
   ]
  },
  {
   "cell_type": "code",
   "execution_count": 28,
   "id": "1fb9fa60-02c4-4fef-9a27-8869a7990c25",
   "metadata": {},
   "outputs": [
    {
     "data": {
      "text/plain": [
       "0.8818936646437058"
      ]
     },
     "execution_count": 28,
     "metadata": {},
     "output_type": "execute_result"
    }
   ],
   "source": [
    "# random number\n",
    "np.random.rand()"
   ]
  },
  {
   "cell_type": "code",
   "execution_count": 71,
   "id": "a2d3a164-be78-41c5-ac06-c838af0240d2",
   "metadata": {},
   "outputs": [
    {
     "data": {
      "text/plain": [
       "array([0.53533556])"
      ]
     },
     "execution_count": 71,
     "metadata": {},
     "output_type": "execute_result"
    }
   ],
   "source": [
    "# random number in an array\n",
    "np.random.rand(1)"
   ]
  },
  {
   "cell_type": "code",
   "execution_count": 30,
   "id": "f260a02f-c46d-4a86-8b95-136c5259f0bc",
   "metadata": {},
   "outputs": [
    {
     "data": {
      "text/plain": [
       "array([0.09894578, 0.75712331, 0.47486185, 0.03641586, 0.16494396,\n",
       "       0.68126045, 0.9298194 , 0.11401147, 0.06050065, 0.94972933])"
      ]
     },
     "execution_count": 30,
     "metadata": {},
     "output_type": "execute_result"
    }
   ],
   "source": [
    "np.random.rand(10)"
   ]
  },
  {
   "cell_type": "code",
   "execution_count": 32,
   "id": "f522f897-1336-47a6-bee9-fe5b72c0d7b3",
   "metadata": {},
   "outputs": [
    {
     "data": {
      "text/plain": [
       "array([[[0.22299129, 0.85340386, 0.83026485, 0.39523093],\n",
       "        [0.25275947, 0.13898381, 0.30541335, 0.00711004]],\n",
       "\n",
       "       [[0.49684989, 0.08755313, 0.72955308, 0.07379463],\n",
       "        [0.185631  , 0.66346048, 0.81648794, 0.10667926]],\n",
       "\n",
       "       [[0.08768039, 0.15503308, 0.72178282, 0.27706982],\n",
       "        [0.83640873, 0.83747544, 0.00871403, 0.07718131]],\n",
       "\n",
       "       [[0.17241289, 0.25112631, 0.46748832, 0.38162344],\n",
       "        [0.097728  , 0.82681404, 0.49538227, 0.20660784]],\n",
       "\n",
       "       [[0.75612304, 0.18499306, 0.22584284, 0.91347911],\n",
       "        [0.78117557, 0.91295143, 0.01427241, 0.38838001]]])"
      ]
     },
     "execution_count": 32,
     "metadata": {},
     "output_type": "execute_result"
    }
   ],
   "source": [
    "np.random.rand(5, 2, 4)"
   ]
  },
  {
   "cell_type": "code",
   "execution_count": 35,
   "id": "82f71798-d7d2-43b7-bf4e-7f93c7a155b4",
   "metadata": {},
   "outputs": [
    {
     "data": {
      "text/plain": [
       "array([[0.2314067 , 0.51263626, 0.43200571],\n",
       "       [0.15239734, 0.37836496, 0.48653114],\n",
       "       [0.34526404, 0.28275484, 0.5717628 ]])"
      ]
     },
     "execution_count": 35,
     "metadata": {},
     "output_type": "execute_result"
    }
   ],
   "source": [
    "np.random.rand(9).reshape(3, -1)"
   ]
  },
  {
   "cell_type": "markdown",
   "id": "c4f7c1e0-e700-4930-b7dc-8b914a20ed37",
   "metadata": {},
   "source": [
    "**np.random.randn**<br>\n",
    "-> random samples from normal distribution"
   ]
  },
  {
   "cell_type": "code",
   "execution_count": 36,
   "id": "e074b086-49bd-453b-bedd-610accf1b862",
   "metadata": {},
   "outputs": [
    {
     "data": {
      "text/plain": [
       "0.3108141885262016"
      ]
     },
     "execution_count": 36,
     "metadata": {},
     "output_type": "execute_result"
    }
   ],
   "source": [
    "np.random.randn()"
   ]
  },
  {
   "cell_type": "code",
   "execution_count": 37,
   "id": "204e680e-74bb-4cb1-8ee2-03c17301a92a",
   "metadata": {},
   "outputs": [
    {
     "data": {
      "text/plain": [
       "array([-0.84816218, -0.85967038, -0.89010064, -2.51622359, -1.60583403,\n",
       "       -1.0235113 ,  1.66608892,  0.09055755,  0.34214182,  0.49071774])"
      ]
     },
     "execution_count": 37,
     "metadata": {},
     "output_type": "execute_result"
    }
   ],
   "source": [
    "np.random.randn(10)"
   ]
  },
  {
   "cell_type": "code",
   "execution_count": 39,
   "id": "5f68ccc9-0757-46d9-944b-dfe0ea258b09",
   "metadata": {},
   "outputs": [
    {
     "data": {
      "text/plain": [
       "array([[-1.20268292,  0.00885515, -0.89050708, -1.2587969 ,  0.55518338],\n",
       "       [-0.25426748,  0.18888011, -0.03067607, -0.76059677, -0.75556456]])"
      ]
     },
     "execution_count": 39,
     "metadata": {},
     "output_type": "execute_result"
    }
   ],
   "source": [
    "np.random.randn(2, 5)"
   ]
  },
  {
   "cell_type": "markdown",
   "id": "bdd37852-75c7-440e-96a6-413924a8c3a7",
   "metadata": {},
   "source": [
    "**np.random.randint**"
   ]
  },
  {
   "cell_type": "code",
   "execution_count": 40,
   "id": "08900db3-472f-45ec-a40b-445c66f54980",
   "metadata": {},
   "outputs": [
    {
     "data": {
      "text/plain": [
       "array([5])"
      ]
     },
     "execution_count": 40,
     "metadata": {},
     "output_type": "execute_result"
    }
   ],
   "source": [
    "np.random.randint(0, 10, 1)"
   ]
  },
  {
   "cell_type": "code",
   "execution_count": 43,
   "id": "17f8c7e7-b2fc-47cc-8fdb-1a7d4298b2f3",
   "metadata": {},
   "outputs": [
    {
     "data": {
      "text/plain": [
       "array([[0, 0, 0, 0, 0],\n",
       "       [0, 0, 0, 0, 0],\n",
       "       [0, 0, 0, 0, 0],\n",
       "       [0, 0, 0, 0, 0],\n",
       "       [0, 0, 0, 0, 0]])"
      ]
     },
     "execution_count": 43,
     "metadata": {},
     "output_type": "execute_result"
    }
   ],
   "source": [
    "np.random.randint(0, 1, (5, 5))"
   ]
  },
  {
   "cell_type": "code",
   "execution_count": 54,
   "id": "ce391914-b3c7-48a4-a88d-903863873a24",
   "metadata": {},
   "outputs": [
    {
     "data": {
      "text/plain": [
       "array([102, 435, 860, 270])"
      ]
     },
     "execution_count": 54,
     "metadata": {},
     "output_type": "execute_result"
    }
   ],
   "source": [
    "np.random.seed(42)\n",
    "np.random.randint(0, 1000, 4)"
   ]
  },
  {
   "cell_type": "code",
   "execution_count": 48,
   "id": "a1ef90f1-e6aa-4578-b14d-b93afc1f488a",
   "metadata": {},
   "outputs": [
    {
     "data": {
      "text/plain": [
       "array([614, 121, 466, 214])"
      ]
     },
     "execution_count": 48,
     "metadata": {},
     "output_type": "execute_result"
    }
   ],
   "source": [
    "np.random.randint(0, 1000, 4)"
   ]
  },
  {
   "cell_type": "markdown",
   "id": "76386ea2-6633-4e5f-8c7b-6e7e5eafcf60",
   "metadata": {},
   "source": [
    "---\n",
    "\n",
    "### more interesting methods"
   ]
  },
  {
   "cell_type": "markdown",
   "id": "c5dff1c5-b137-4e24-b318-3bfaebb4456e",
   "metadata": {},
   "source": [
    "**reshape**"
   ]
  },
  {
   "cell_type": "markdown",
   "id": "fa474154-9a89-4792-a758-3311ae6af8d9",
   "metadata": {},
   "source": [
    "as method call:"
   ]
  },
  {
   "cell_type": "code",
   "execution_count": 56,
   "id": "0683728a-502a-4dd7-b167-671f08b9b603",
   "metadata": {},
   "outputs": [
    {
     "data": {
      "text/plain": [
       "array([[1, 2, 3],\n",
       "       [4, 5, 6],\n",
       "       [7, 8, 9]])"
      ]
     },
     "execution_count": 56,
     "metadata": {},
     "output_type": "execute_result"
    }
   ],
   "source": [
    "np.arange(1, 10).reshape(3, 3)"
   ]
  },
  {
   "cell_type": "code",
   "execution_count": 57,
   "id": "226480e3-ca21-4c37-8870-3092663bda86",
   "metadata": {},
   "outputs": [
    {
     "data": {
      "text/plain": [
       "array([[1, 2, 3],\n",
       "       [4, 5, 6],\n",
       "       [7, 8, 9]])"
      ]
     },
     "execution_count": 57,
     "metadata": {},
     "output_type": "execute_result"
    }
   ],
   "source": [
    "np.arange(1, 10).reshape(3, -1)"
   ]
  },
  {
   "cell_type": "code",
   "execution_count": 58,
   "id": "915a0fe9-c8ed-4592-b3ef-85f6404548ec",
   "metadata": {},
   "outputs": [
    {
     "data": {
      "text/plain": [
       "array([[1, 2, 3],\n",
       "       [4, 5, 6],\n",
       "       [7, 8, 9]])"
      ]
     },
     "execution_count": 58,
     "metadata": {},
     "output_type": "execute_result"
    }
   ],
   "source": [
    "np.arange(1, 10).reshape(-1, 3)"
   ]
  },
  {
   "cell_type": "markdown",
   "id": "ff9a3ba3-21ea-462b-8d18-f8c2611e2f33",
   "metadata": {},
   "source": [
    "or as function call:"
   ]
  },
  {
   "cell_type": "code",
   "execution_count": 60,
   "id": "0f6fcc16-7bd4-4950-9bbb-745d1708b6a0",
   "metadata": {},
   "outputs": [
    {
     "data": {
      "text/plain": [
       "array([[1, 2, 3],\n",
       "       [4, 5, 6],\n",
       "       [7, 8, 9]])"
      ]
     },
     "execution_count": 60,
     "metadata": {},
     "output_type": "execute_result"
    }
   ],
   "source": [
    "np.reshape(np.arange(1,10), (3, 3))"
   ]
  },
  {
   "cell_type": "markdown",
   "id": "a8edcf4d-737b-4af6-8b3c-32ec0352de4b",
   "metadata": {},
   "source": [
    "**argmin**<br>\n",
    "-> get index of min"
   ]
  },
  {
   "cell_type": "code",
   "execution_count": 62,
   "id": "1c9e99b5-8ef3-4d7f-b685-e46915b23663",
   "metadata": {},
   "outputs": [],
   "source": [
    "arr = np.random.randint(-100000, 100000, 1000)"
   ]
  },
  {
   "cell_type": "code",
   "execution_count": 63,
   "id": "027de8cc-1008-4405-a67c-067866350df3",
   "metadata": {},
   "outputs": [
    {
     "data": {
      "text/plain": [
       "-99596"
      ]
     },
     "execution_count": 63,
     "metadata": {},
     "output_type": "execute_result"
    }
   ],
   "source": [
    "arr.min()"
   ]
  },
  {
   "cell_type": "code",
   "execution_count": 64,
   "id": "823e1eb6-fbab-4cda-a38b-55fa46781476",
   "metadata": {},
   "outputs": [
    {
     "data": {
      "text/plain": [
       "817"
      ]
     },
     "execution_count": 64,
     "metadata": {},
     "output_type": "execute_result"
    }
   ],
   "source": [
    "arr.argmin()"
   ]
  },
  {
   "cell_type": "code",
   "execution_count": 65,
   "id": "4eb76e4d-140d-4325-89bf-b6d093396a35",
   "metadata": {},
   "outputs": [
    {
     "data": {
      "text/plain": [
       "-99596"
      ]
     },
     "execution_count": 65,
     "metadata": {},
     "output_type": "execute_result"
    }
   ],
   "source": [
    "arr[arr.argmin()]"
   ]
  },
  {
   "cell_type": "markdown",
   "id": "a59acd52-1e68-4d8e-825b-0027ef178e85",
   "metadata": {},
   "source": [
    "**argmax**<br>\n",
    "-> get index of max"
   ]
  },
  {
   "cell_type": "code",
   "execution_count": 66,
   "id": "7153d863-13d9-461c-a076-2e41042c9342",
   "metadata": {},
   "outputs": [
    {
     "data": {
      "text/plain": [
       "99938"
      ]
     },
     "execution_count": 66,
     "metadata": {},
     "output_type": "execute_result"
    }
   ],
   "source": [
    "arr.max()"
   ]
  },
  {
   "cell_type": "code",
   "execution_count": 67,
   "id": "6edbbedd-0c49-4def-b772-a73a33a9384f",
   "metadata": {},
   "outputs": [
    {
     "data": {
      "text/plain": [
       "744"
      ]
     },
     "execution_count": 67,
     "metadata": {},
     "output_type": "execute_result"
    }
   ],
   "source": [
    "arr.argmax()"
   ]
  },
  {
   "cell_type": "code",
   "execution_count": 68,
   "id": "75d09bce-33b1-4436-a9dc-d8a9a5bc5110",
   "metadata": {},
   "outputs": [
    {
     "data": {
      "text/plain": [
       "99938"
      ]
     },
     "execution_count": 68,
     "metadata": {},
     "output_type": "execute_result"
    }
   ],
   "source": [
    "arr[arr.argmax()]"
   ]
  },
  {
   "cell_type": "markdown",
   "id": "1e3cfb79-cb2b-4efd-8f73-0ffdcdf1fb4b",
   "metadata": {},
   "source": [
    "**properties**"
   ]
  },
  {
   "cell_type": "code",
   "execution_count": 69,
   "id": "589fd176-6c17-48e4-b8b3-1f5e6009f796",
   "metadata": {},
   "outputs": [
    {
     "data": {
      "text/plain": [
       "dtype('int32')"
      ]
     },
     "execution_count": 69,
     "metadata": {},
     "output_type": "execute_result"
    }
   ],
   "source": [
    "arr.dtype"
   ]
  },
  {
   "cell_type": "code",
   "execution_count": 70,
   "id": "c25ae5e0-f62b-42a4-a45c-b1c6357f8aa5",
   "metadata": {},
   "outputs": [
    {
     "data": {
      "text/plain": [
       "(1000,)"
      ]
     },
     "execution_count": 70,
     "metadata": {},
     "output_type": "execute_result"
    }
   ],
   "source": [
    "arr.shape"
   ]
  },
  {
   "cell_type": "code",
   "execution_count": null,
   "id": "0f576939-0109-442c-9c85-107449c8e685",
   "metadata": {},
   "outputs": [],
   "source": []
  }
 ],
 "metadata": {
  "kernelspec": {
   "display_name": "Python 3",
   "language": "python",
   "name": "python3"
  },
  "language_info": {
   "codemirror_mode": {
    "name": "ipython",
    "version": 3
   },
   "file_extension": ".py",
   "mimetype": "text/x-python",
   "name": "python",
   "nbconvert_exporter": "python",
   "pygments_lexer": "ipython3",
   "version": "3.9.12"
  }
 },
 "nbformat": 4,
 "nbformat_minor": 5
}
